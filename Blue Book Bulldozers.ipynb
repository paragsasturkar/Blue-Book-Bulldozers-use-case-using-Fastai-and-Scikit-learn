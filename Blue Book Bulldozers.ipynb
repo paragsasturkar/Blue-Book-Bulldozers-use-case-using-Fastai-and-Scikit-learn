{
 "cells": [
  {
   "cell_type": "code",
   "execution_count": 1,
   "metadata": {},
   "outputs": [],
   "source": [
    "%load_ext autoreload\n",
    "%autoreload 2\n",
    "%matplotlib inline"
   ]
  },
  {
   "cell_type": "code",
   "execution_count": 2,
   "metadata": {
    "scrolled": true
   },
   "outputs": [
    {
     "name": "stderr",
     "output_type": "stream",
     "text": [
      "/home/ubuntu/anaconda3/lib/python3.6/site-packages/sklearn/ensemble/weight_boosting.py:29: DeprecationWarning: numpy.core.umath_tests is an internal NumPy module and should not be imported. It will be removed in a future NumPy release.\n",
      "  from numpy.core.umath_tests import inner1d\n"
     ]
    }
   ],
   "source": [
    "from fastai.imports import *\n",
    "from fastai.structured import *\n",
    "\n",
    "from pandas_summary import DataFrameSummary\n",
    "from sklearn.ensemble import RandomForestRegressor, RandomForestClassifier, GradientBoostingClassifier, GradientBoostingRegressor\n",
    "from IPython.display import display\n",
    "from sklearn import metrics"
   ]
  },
  {
   "cell_type": "markdown",
   "metadata": {},
   "source": [
    "## read training data"
   ]
  },
  {
   "cell_type": "code",
   "execution_count": 3,
   "metadata": {},
   "outputs": [],
   "source": [
    "path =\"/home/ubuntu/bluebook-for-bulldozers/\""
   ]
  },
  {
   "cell_type": "code",
   "execution_count": 4,
   "metadata": {},
   "outputs": [],
   "source": [
    "df_raw = pd.read_csv(f'{path}Train.csv', low_memory=False, parse_dates=[\"saledate\"])"
   ]
  },
  {
   "cell_type": "code",
   "execution_count": 5,
   "metadata": {},
   "outputs": [],
   "source": [
    "def display_all(df):\n",
    "    with pd.option_context(\"display.max_rows\", 1000):\n",
    "        with pd.option_context(\"display.max_columns\", 1000):\n",
    "            display(df)"
   ]
  },
  {
   "cell_type": "code",
   "execution_count": 6,
   "metadata": {
    "collapsed": true
   },
   "outputs": [
    {
     "data": {
      "text/html": [
       "<div>\n",
       "<style scoped>\n",
       "    .dataframe tbody tr th:only-of-type {\n",
       "        vertical-align: middle;\n",
       "    }\n",
       "\n",
       "    .dataframe tbody tr th {\n",
       "        vertical-align: top;\n",
       "    }\n",
       "\n",
       "    .dataframe thead th {\n",
       "        text-align: right;\n",
       "    }\n",
       "</style>\n",
       "<table border=\"1\" class=\"dataframe\">\n",
       "  <thead>\n",
       "    <tr style=\"text-align: right;\">\n",
       "      <th></th>\n",
       "      <th>401120</th>\n",
       "      <th>401121</th>\n",
       "      <th>401122</th>\n",
       "      <th>401123</th>\n",
       "      <th>401124</th>\n",
       "    </tr>\n",
       "  </thead>\n",
       "  <tbody>\n",
       "    <tr>\n",
       "      <th>SalesID</th>\n",
       "      <td>6333336</td>\n",
       "      <td>6333337</td>\n",
       "      <td>6333338</td>\n",
       "      <td>6333341</td>\n",
       "      <td>6333342</td>\n",
       "    </tr>\n",
       "    <tr>\n",
       "      <th>SalePrice</th>\n",
       "      <td>10500</td>\n",
       "      <td>11000</td>\n",
       "      <td>11500</td>\n",
       "      <td>9000</td>\n",
       "      <td>7750</td>\n",
       "    </tr>\n",
       "    <tr>\n",
       "      <th>MachineID</th>\n",
       "      <td>1840702</td>\n",
       "      <td>1830472</td>\n",
       "      <td>1887659</td>\n",
       "      <td>1903570</td>\n",
       "      <td>1926965</td>\n",
       "    </tr>\n",
       "    <tr>\n",
       "      <th>ModelID</th>\n",
       "      <td>21439</td>\n",
       "      <td>21439</td>\n",
       "      <td>21439</td>\n",
       "      <td>21435</td>\n",
       "      <td>21435</td>\n",
       "    </tr>\n",
       "    <tr>\n",
       "      <th>datasource</th>\n",
       "      <td>149</td>\n",
       "      <td>149</td>\n",
       "      <td>149</td>\n",
       "      <td>149</td>\n",
       "      <td>149</td>\n",
       "    </tr>\n",
       "    <tr>\n",
       "      <th>auctioneerID</th>\n",
       "      <td>1</td>\n",
       "      <td>1</td>\n",
       "      <td>1</td>\n",
       "      <td>2</td>\n",
       "      <td>2</td>\n",
       "    </tr>\n",
       "    <tr>\n",
       "      <th>YearMade</th>\n",
       "      <td>2005</td>\n",
       "      <td>2005</td>\n",
       "      <td>2005</td>\n",
       "      <td>2005</td>\n",
       "      <td>2005</td>\n",
       "    </tr>\n",
       "    <tr>\n",
       "      <th>MachineHoursCurrentMeter</th>\n",
       "      <td>NaN</td>\n",
       "      <td>NaN</td>\n",
       "      <td>NaN</td>\n",
       "      <td>NaN</td>\n",
       "      <td>NaN</td>\n",
       "    </tr>\n",
       "    <tr>\n",
       "      <th>UsageBand</th>\n",
       "      <td>NaN</td>\n",
       "      <td>NaN</td>\n",
       "      <td>NaN</td>\n",
       "      <td>NaN</td>\n",
       "      <td>NaN</td>\n",
       "    </tr>\n",
       "    <tr>\n",
       "      <th>saledate</th>\n",
       "      <td>2011-11-02 00:00:00</td>\n",
       "      <td>2011-11-02 00:00:00</td>\n",
       "      <td>2011-11-02 00:00:00</td>\n",
       "      <td>2011-10-25 00:00:00</td>\n",
       "      <td>2011-10-25 00:00:00</td>\n",
       "    </tr>\n",
       "    <tr>\n",
       "      <th>fiModelDesc</th>\n",
       "      <td>35NX2</td>\n",
       "      <td>35NX2</td>\n",
       "      <td>35NX2</td>\n",
       "      <td>30NX</td>\n",
       "      <td>30NX</td>\n",
       "    </tr>\n",
       "    <tr>\n",
       "      <th>fiBaseModel</th>\n",
       "      <td>35</td>\n",
       "      <td>35</td>\n",
       "      <td>35</td>\n",
       "      <td>30</td>\n",
       "      <td>30</td>\n",
       "    </tr>\n",
       "    <tr>\n",
       "      <th>fiSecondaryDesc</th>\n",
       "      <td>NX</td>\n",
       "      <td>NX</td>\n",
       "      <td>NX</td>\n",
       "      <td>NX</td>\n",
       "      <td>NX</td>\n",
       "    </tr>\n",
       "    <tr>\n",
       "      <th>fiModelSeries</th>\n",
       "      <td>2</td>\n",
       "      <td>2</td>\n",
       "      <td>2</td>\n",
       "      <td>NaN</td>\n",
       "      <td>NaN</td>\n",
       "    </tr>\n",
       "    <tr>\n",
       "      <th>fiModelDescriptor</th>\n",
       "      <td>NaN</td>\n",
       "      <td>NaN</td>\n",
       "      <td>NaN</td>\n",
       "      <td>NaN</td>\n",
       "      <td>NaN</td>\n",
       "    </tr>\n",
       "    <tr>\n",
       "      <th>ProductSize</th>\n",
       "      <td>Mini</td>\n",
       "      <td>Mini</td>\n",
       "      <td>Mini</td>\n",
       "      <td>Mini</td>\n",
       "      <td>Mini</td>\n",
       "    </tr>\n",
       "    <tr>\n",
       "      <th>fiProductClassDesc</th>\n",
       "      <td>Hydraulic Excavator, Track - 3.0 to 4.0 Metric...</td>\n",
       "      <td>Hydraulic Excavator, Track - 3.0 to 4.0 Metric...</td>\n",
       "      <td>Hydraulic Excavator, Track - 3.0 to 4.0 Metric...</td>\n",
       "      <td>Hydraulic Excavator, Track - 2.0 to 3.0 Metric...</td>\n",
       "      <td>Hydraulic Excavator, Track - 2.0 to 3.0 Metric...</td>\n",
       "    </tr>\n",
       "    <tr>\n",
       "      <th>state</th>\n",
       "      <td>Maryland</td>\n",
       "      <td>Maryland</td>\n",
       "      <td>Maryland</td>\n",
       "      <td>Florida</td>\n",
       "      <td>Florida</td>\n",
       "    </tr>\n",
       "    <tr>\n",
       "      <th>ProductGroup</th>\n",
       "      <td>TEX</td>\n",
       "      <td>TEX</td>\n",
       "      <td>TEX</td>\n",
       "      <td>TEX</td>\n",
       "      <td>TEX</td>\n",
       "    </tr>\n",
       "    <tr>\n",
       "      <th>ProductGroupDesc</th>\n",
       "      <td>Track Excavators</td>\n",
       "      <td>Track Excavators</td>\n",
       "      <td>Track Excavators</td>\n",
       "      <td>Track Excavators</td>\n",
       "      <td>Track Excavators</td>\n",
       "    </tr>\n",
       "    <tr>\n",
       "      <th>Drive_System</th>\n",
       "      <td>NaN</td>\n",
       "      <td>NaN</td>\n",
       "      <td>NaN</td>\n",
       "      <td>NaN</td>\n",
       "      <td>NaN</td>\n",
       "    </tr>\n",
       "    <tr>\n",
       "      <th>Enclosure</th>\n",
       "      <td>EROPS</td>\n",
       "      <td>EROPS</td>\n",
       "      <td>EROPS</td>\n",
       "      <td>EROPS</td>\n",
       "      <td>EROPS</td>\n",
       "    </tr>\n",
       "    <tr>\n",
       "      <th>Forks</th>\n",
       "      <td>NaN</td>\n",
       "      <td>NaN</td>\n",
       "      <td>NaN</td>\n",
       "      <td>NaN</td>\n",
       "      <td>NaN</td>\n",
       "    </tr>\n",
       "    <tr>\n",
       "      <th>Pad_Type</th>\n",
       "      <td>NaN</td>\n",
       "      <td>NaN</td>\n",
       "      <td>NaN</td>\n",
       "      <td>NaN</td>\n",
       "      <td>NaN</td>\n",
       "    </tr>\n",
       "    <tr>\n",
       "      <th>Ride_Control</th>\n",
       "      <td>NaN</td>\n",
       "      <td>NaN</td>\n",
       "      <td>NaN</td>\n",
       "      <td>NaN</td>\n",
       "      <td>NaN</td>\n",
       "    </tr>\n",
       "    <tr>\n",
       "      <th>Stick</th>\n",
       "      <td>NaN</td>\n",
       "      <td>NaN</td>\n",
       "      <td>NaN</td>\n",
       "      <td>NaN</td>\n",
       "      <td>NaN</td>\n",
       "    </tr>\n",
       "    <tr>\n",
       "      <th>Transmission</th>\n",
       "      <td>NaN</td>\n",
       "      <td>NaN</td>\n",
       "      <td>NaN</td>\n",
       "      <td>NaN</td>\n",
       "      <td>NaN</td>\n",
       "    </tr>\n",
       "    <tr>\n",
       "      <th>Turbocharged</th>\n",
       "      <td>NaN</td>\n",
       "      <td>NaN</td>\n",
       "      <td>NaN</td>\n",
       "      <td>NaN</td>\n",
       "      <td>NaN</td>\n",
       "    </tr>\n",
       "    <tr>\n",
       "      <th>Blade_Extension</th>\n",
       "      <td>NaN</td>\n",
       "      <td>NaN</td>\n",
       "      <td>NaN</td>\n",
       "      <td>NaN</td>\n",
       "      <td>NaN</td>\n",
       "    </tr>\n",
       "    <tr>\n",
       "      <th>Blade_Width</th>\n",
       "      <td>NaN</td>\n",
       "      <td>NaN</td>\n",
       "      <td>NaN</td>\n",
       "      <td>NaN</td>\n",
       "      <td>NaN</td>\n",
       "    </tr>\n",
       "    <tr>\n",
       "      <th>Enclosure_Type</th>\n",
       "      <td>NaN</td>\n",
       "      <td>NaN</td>\n",
       "      <td>NaN</td>\n",
       "      <td>NaN</td>\n",
       "      <td>NaN</td>\n",
       "    </tr>\n",
       "    <tr>\n",
       "      <th>Engine_Horsepower</th>\n",
       "      <td>NaN</td>\n",
       "      <td>NaN</td>\n",
       "      <td>NaN</td>\n",
       "      <td>NaN</td>\n",
       "      <td>NaN</td>\n",
       "    </tr>\n",
       "    <tr>\n",
       "      <th>Hydraulics</th>\n",
       "      <td>Auxiliary</td>\n",
       "      <td>Standard</td>\n",
       "      <td>Auxiliary</td>\n",
       "      <td>Standard</td>\n",
       "      <td>Standard</td>\n",
       "    </tr>\n",
       "    <tr>\n",
       "      <th>Pushblock</th>\n",
       "      <td>NaN</td>\n",
       "      <td>NaN</td>\n",
       "      <td>NaN</td>\n",
       "      <td>NaN</td>\n",
       "      <td>NaN</td>\n",
       "    </tr>\n",
       "    <tr>\n",
       "      <th>Ripper</th>\n",
       "      <td>NaN</td>\n",
       "      <td>NaN</td>\n",
       "      <td>NaN</td>\n",
       "      <td>NaN</td>\n",
       "      <td>NaN</td>\n",
       "    </tr>\n",
       "    <tr>\n",
       "      <th>Scarifier</th>\n",
       "      <td>NaN</td>\n",
       "      <td>NaN</td>\n",
       "      <td>NaN</td>\n",
       "      <td>NaN</td>\n",
       "      <td>NaN</td>\n",
       "    </tr>\n",
       "    <tr>\n",
       "      <th>Tip_Control</th>\n",
       "      <td>NaN</td>\n",
       "      <td>NaN</td>\n",
       "      <td>NaN</td>\n",
       "      <td>NaN</td>\n",
       "      <td>NaN</td>\n",
       "    </tr>\n",
       "    <tr>\n",
       "      <th>Tire_Size</th>\n",
       "      <td>NaN</td>\n",
       "      <td>NaN</td>\n",
       "      <td>NaN</td>\n",
       "      <td>NaN</td>\n",
       "      <td>NaN</td>\n",
       "    </tr>\n",
       "    <tr>\n",
       "      <th>Coupler</th>\n",
       "      <td>None or Unspecified</td>\n",
       "      <td>None or Unspecified</td>\n",
       "      <td>None or Unspecified</td>\n",
       "      <td>None or Unspecified</td>\n",
       "      <td>None or Unspecified</td>\n",
       "    </tr>\n",
       "    <tr>\n",
       "      <th>Coupler_System</th>\n",
       "      <td>NaN</td>\n",
       "      <td>NaN</td>\n",
       "      <td>NaN</td>\n",
       "      <td>NaN</td>\n",
       "      <td>NaN</td>\n",
       "    </tr>\n",
       "    <tr>\n",
       "      <th>Grouser_Tracks</th>\n",
       "      <td>NaN</td>\n",
       "      <td>NaN</td>\n",
       "      <td>NaN</td>\n",
       "      <td>NaN</td>\n",
       "      <td>NaN</td>\n",
       "    </tr>\n",
       "    <tr>\n",
       "      <th>Hydraulics_Flow</th>\n",
       "      <td>NaN</td>\n",
       "      <td>NaN</td>\n",
       "      <td>NaN</td>\n",
       "      <td>NaN</td>\n",
       "      <td>NaN</td>\n",
       "    </tr>\n",
       "    <tr>\n",
       "      <th>Track_Type</th>\n",
       "      <td>Steel</td>\n",
       "      <td>Steel</td>\n",
       "      <td>Steel</td>\n",
       "      <td>Steel</td>\n",
       "      <td>Steel</td>\n",
       "    </tr>\n",
       "    <tr>\n",
       "      <th>Undercarriage_Pad_Width</th>\n",
       "      <td>None or Unspecified</td>\n",
       "      <td>None or Unspecified</td>\n",
       "      <td>None or Unspecified</td>\n",
       "      <td>None or Unspecified</td>\n",
       "      <td>None or Unspecified</td>\n",
       "    </tr>\n",
       "    <tr>\n",
       "      <th>Stick_Length</th>\n",
       "      <td>None or Unspecified</td>\n",
       "      <td>None or Unspecified</td>\n",
       "      <td>None or Unspecified</td>\n",
       "      <td>None or Unspecified</td>\n",
       "      <td>None or Unspecified</td>\n",
       "    </tr>\n",
       "    <tr>\n",
       "      <th>Thumb</th>\n",
       "      <td>None or Unspecified</td>\n",
       "      <td>None or Unspecified</td>\n",
       "      <td>None or Unspecified</td>\n",
       "      <td>None or Unspecified</td>\n",
       "      <td>None or Unspecified</td>\n",
       "    </tr>\n",
       "    <tr>\n",
       "      <th>Pattern_Changer</th>\n",
       "      <td>None or Unspecified</td>\n",
       "      <td>None or Unspecified</td>\n",
       "      <td>None or Unspecified</td>\n",
       "      <td>None or Unspecified</td>\n",
       "      <td>None or Unspecified</td>\n",
       "    </tr>\n",
       "    <tr>\n",
       "      <th>Grouser_Type</th>\n",
       "      <td>Double</td>\n",
       "      <td>Double</td>\n",
       "      <td>Double</td>\n",
       "      <td>Double</td>\n",
       "      <td>Double</td>\n",
       "    </tr>\n",
       "    <tr>\n",
       "      <th>Backhoe_Mounting</th>\n",
       "      <td>NaN</td>\n",
       "      <td>NaN</td>\n",
       "      <td>NaN</td>\n",
       "      <td>NaN</td>\n",
       "      <td>NaN</td>\n",
       "    </tr>\n",
       "    <tr>\n",
       "      <th>Blade_Type</th>\n",
       "      <td>NaN</td>\n",
       "      <td>NaN</td>\n",
       "      <td>NaN</td>\n",
       "      <td>NaN</td>\n",
       "      <td>NaN</td>\n",
       "    </tr>\n",
       "    <tr>\n",
       "      <th>Travel_Controls</th>\n",
       "      <td>NaN</td>\n",
       "      <td>NaN</td>\n",
       "      <td>NaN</td>\n",
       "      <td>NaN</td>\n",
       "      <td>NaN</td>\n",
       "    </tr>\n",
       "    <tr>\n",
       "      <th>Differential_Type</th>\n",
       "      <td>NaN</td>\n",
       "      <td>NaN</td>\n",
       "      <td>NaN</td>\n",
       "      <td>NaN</td>\n",
       "      <td>NaN</td>\n",
       "    </tr>\n",
       "    <tr>\n",
       "      <th>Steering_Controls</th>\n",
       "      <td>NaN</td>\n",
       "      <td>NaN</td>\n",
       "      <td>NaN</td>\n",
       "      <td>NaN</td>\n",
       "      <td>NaN</td>\n",
       "    </tr>\n",
       "  </tbody>\n",
       "</table>\n",
       "</div>"
      ],
      "text/plain": [
       "                                                                     401120  \\\n",
       "SalesID                                                             6333336   \n",
       "SalePrice                                                             10500   \n",
       "MachineID                                                           1840702   \n",
       "ModelID                                                               21439   \n",
       "datasource                                                              149   \n",
       "auctioneerID                                                              1   \n",
       "YearMade                                                               2005   \n",
       "MachineHoursCurrentMeter                                                NaN   \n",
       "UsageBand                                                               NaN   \n",
       "saledate                                                2011-11-02 00:00:00   \n",
       "fiModelDesc                                                           35NX2   \n",
       "fiBaseModel                                                              35   \n",
       "fiSecondaryDesc                                                          NX   \n",
       "fiModelSeries                                                             2   \n",
       "fiModelDescriptor                                                       NaN   \n",
       "ProductSize                                                            Mini   \n",
       "fiProductClassDesc        Hydraulic Excavator, Track - 3.0 to 4.0 Metric...   \n",
       "state                                                              Maryland   \n",
       "ProductGroup                                                            TEX   \n",
       "ProductGroupDesc                                           Track Excavators   \n",
       "Drive_System                                                            NaN   \n",
       "Enclosure                                                             EROPS   \n",
       "Forks                                                                   NaN   \n",
       "Pad_Type                                                                NaN   \n",
       "Ride_Control                                                            NaN   \n",
       "Stick                                                                   NaN   \n",
       "Transmission                                                            NaN   \n",
       "Turbocharged                                                            NaN   \n",
       "Blade_Extension                                                         NaN   \n",
       "Blade_Width                                                             NaN   \n",
       "Enclosure_Type                                                          NaN   \n",
       "Engine_Horsepower                                                       NaN   \n",
       "Hydraulics                                                        Auxiliary   \n",
       "Pushblock                                                               NaN   \n",
       "Ripper                                                                  NaN   \n",
       "Scarifier                                                               NaN   \n",
       "Tip_Control                                                             NaN   \n",
       "Tire_Size                                                               NaN   \n",
       "Coupler                                                 None or Unspecified   \n",
       "Coupler_System                                                          NaN   \n",
       "Grouser_Tracks                                                          NaN   \n",
       "Hydraulics_Flow                                                         NaN   \n",
       "Track_Type                                                            Steel   \n",
       "Undercarriage_Pad_Width                                 None or Unspecified   \n",
       "Stick_Length                                            None or Unspecified   \n",
       "Thumb                                                   None or Unspecified   \n",
       "Pattern_Changer                                         None or Unspecified   \n",
       "Grouser_Type                                                         Double   \n",
       "Backhoe_Mounting                                                        NaN   \n",
       "Blade_Type                                                              NaN   \n",
       "Travel_Controls                                                         NaN   \n",
       "Differential_Type                                                       NaN   \n",
       "Steering_Controls                                                       NaN   \n",
       "\n",
       "                                                                     401121  \\\n",
       "SalesID                                                             6333337   \n",
       "SalePrice                                                             11000   \n",
       "MachineID                                                           1830472   \n",
       "ModelID                                                               21439   \n",
       "datasource                                                              149   \n",
       "auctioneerID                                                              1   \n",
       "YearMade                                                               2005   \n",
       "MachineHoursCurrentMeter                                                NaN   \n",
       "UsageBand                                                               NaN   \n",
       "saledate                                                2011-11-02 00:00:00   \n",
       "fiModelDesc                                                           35NX2   \n",
       "fiBaseModel                                                              35   \n",
       "fiSecondaryDesc                                                          NX   \n",
       "fiModelSeries                                                             2   \n",
       "fiModelDescriptor                                                       NaN   \n",
       "ProductSize                                                            Mini   \n",
       "fiProductClassDesc        Hydraulic Excavator, Track - 3.0 to 4.0 Metric...   \n",
       "state                                                              Maryland   \n",
       "ProductGroup                                                            TEX   \n",
       "ProductGroupDesc                                           Track Excavators   \n",
       "Drive_System                                                            NaN   \n",
       "Enclosure                                                             EROPS   \n",
       "Forks                                                                   NaN   \n",
       "Pad_Type                                                                NaN   \n",
       "Ride_Control                                                            NaN   \n",
       "Stick                                                                   NaN   \n",
       "Transmission                                                            NaN   \n",
       "Turbocharged                                                            NaN   \n",
       "Blade_Extension                                                         NaN   \n",
       "Blade_Width                                                             NaN   \n",
       "Enclosure_Type                                                          NaN   \n",
       "Engine_Horsepower                                                       NaN   \n",
       "Hydraulics                                                         Standard   \n",
       "Pushblock                                                               NaN   \n",
       "Ripper                                                                  NaN   \n",
       "Scarifier                                                               NaN   \n",
       "Tip_Control                                                             NaN   \n",
       "Tire_Size                                                               NaN   \n",
       "Coupler                                                 None or Unspecified   \n",
       "Coupler_System                                                          NaN   \n",
       "Grouser_Tracks                                                          NaN   \n",
       "Hydraulics_Flow                                                         NaN   \n",
       "Track_Type                                                            Steel   \n",
       "Undercarriage_Pad_Width                                 None or Unspecified   \n",
       "Stick_Length                                            None or Unspecified   \n",
       "Thumb                                                   None or Unspecified   \n",
       "Pattern_Changer                                         None or Unspecified   \n",
       "Grouser_Type                                                         Double   \n",
       "Backhoe_Mounting                                                        NaN   \n",
       "Blade_Type                                                              NaN   \n",
       "Travel_Controls                                                         NaN   \n",
       "Differential_Type                                                       NaN   \n",
       "Steering_Controls                                                       NaN   \n",
       "\n",
       "                                                                     401122  \\\n",
       "SalesID                                                             6333338   \n",
       "SalePrice                                                             11500   \n",
       "MachineID                                                           1887659   \n",
       "ModelID                                                               21439   \n",
       "datasource                                                              149   \n",
       "auctioneerID                                                              1   \n",
       "YearMade                                                               2005   \n",
       "MachineHoursCurrentMeter                                                NaN   \n",
       "UsageBand                                                               NaN   \n",
       "saledate                                                2011-11-02 00:00:00   \n",
       "fiModelDesc                                                           35NX2   \n",
       "fiBaseModel                                                              35   \n",
       "fiSecondaryDesc                                                          NX   \n",
       "fiModelSeries                                                             2   \n",
       "fiModelDescriptor                                                       NaN   \n",
       "ProductSize                                                            Mini   \n",
       "fiProductClassDesc        Hydraulic Excavator, Track - 3.0 to 4.0 Metric...   \n",
       "state                                                              Maryland   \n",
       "ProductGroup                                                            TEX   \n",
       "ProductGroupDesc                                           Track Excavators   \n",
       "Drive_System                                                            NaN   \n",
       "Enclosure                                                             EROPS   \n",
       "Forks                                                                   NaN   \n",
       "Pad_Type                                                                NaN   \n",
       "Ride_Control                                                            NaN   \n",
       "Stick                                                                   NaN   \n",
       "Transmission                                                            NaN   \n",
       "Turbocharged                                                            NaN   \n",
       "Blade_Extension                                                         NaN   \n",
       "Blade_Width                                                             NaN   \n",
       "Enclosure_Type                                                          NaN   \n",
       "Engine_Horsepower                                                       NaN   \n",
       "Hydraulics                                                        Auxiliary   \n",
       "Pushblock                                                               NaN   \n",
       "Ripper                                                                  NaN   \n",
       "Scarifier                                                               NaN   \n",
       "Tip_Control                                                             NaN   \n",
       "Tire_Size                                                               NaN   \n",
       "Coupler                                                 None or Unspecified   \n",
       "Coupler_System                                                          NaN   \n",
       "Grouser_Tracks                                                          NaN   \n",
       "Hydraulics_Flow                                                         NaN   \n",
       "Track_Type                                                            Steel   \n",
       "Undercarriage_Pad_Width                                 None or Unspecified   \n",
       "Stick_Length                                            None or Unspecified   \n",
       "Thumb                                                   None or Unspecified   \n",
       "Pattern_Changer                                         None or Unspecified   \n",
       "Grouser_Type                                                         Double   \n",
       "Backhoe_Mounting                                                        NaN   \n",
       "Blade_Type                                                              NaN   \n",
       "Travel_Controls                                                         NaN   \n",
       "Differential_Type                                                       NaN   \n",
       "Steering_Controls                                                       NaN   \n",
       "\n",
       "                                                                     401123  \\\n",
       "SalesID                                                             6333341   \n",
       "SalePrice                                                              9000   \n",
       "MachineID                                                           1903570   \n",
       "ModelID                                                               21435   \n",
       "datasource                                                              149   \n",
       "auctioneerID                                                              2   \n",
       "YearMade                                                               2005   \n",
       "MachineHoursCurrentMeter                                                NaN   \n",
       "UsageBand                                                               NaN   \n",
       "saledate                                                2011-10-25 00:00:00   \n",
       "fiModelDesc                                                            30NX   \n",
       "fiBaseModel                                                              30   \n",
       "fiSecondaryDesc                                                          NX   \n",
       "fiModelSeries                                                           NaN   \n",
       "fiModelDescriptor                                                       NaN   \n",
       "ProductSize                                                            Mini   \n",
       "fiProductClassDesc        Hydraulic Excavator, Track - 2.0 to 3.0 Metric...   \n",
       "state                                                               Florida   \n",
       "ProductGroup                                                            TEX   \n",
       "ProductGroupDesc                                           Track Excavators   \n",
       "Drive_System                                                            NaN   \n",
       "Enclosure                                                             EROPS   \n",
       "Forks                                                                   NaN   \n",
       "Pad_Type                                                                NaN   \n",
       "Ride_Control                                                            NaN   \n",
       "Stick                                                                   NaN   \n",
       "Transmission                                                            NaN   \n",
       "Turbocharged                                                            NaN   \n",
       "Blade_Extension                                                         NaN   \n",
       "Blade_Width                                                             NaN   \n",
       "Enclosure_Type                                                          NaN   \n",
       "Engine_Horsepower                                                       NaN   \n",
       "Hydraulics                                                         Standard   \n",
       "Pushblock                                                               NaN   \n",
       "Ripper                                                                  NaN   \n",
       "Scarifier                                                               NaN   \n",
       "Tip_Control                                                             NaN   \n",
       "Tire_Size                                                               NaN   \n",
       "Coupler                                                 None or Unspecified   \n",
       "Coupler_System                                                          NaN   \n",
       "Grouser_Tracks                                                          NaN   \n",
       "Hydraulics_Flow                                                         NaN   \n",
       "Track_Type                                                            Steel   \n",
       "Undercarriage_Pad_Width                                 None or Unspecified   \n",
       "Stick_Length                                            None or Unspecified   \n",
       "Thumb                                                   None or Unspecified   \n",
       "Pattern_Changer                                         None or Unspecified   \n",
       "Grouser_Type                                                         Double   \n",
       "Backhoe_Mounting                                                        NaN   \n",
       "Blade_Type                                                              NaN   \n",
       "Travel_Controls                                                         NaN   \n",
       "Differential_Type                                                       NaN   \n",
       "Steering_Controls                                                       NaN   \n",
       "\n",
       "                                                                     401124  \n",
       "SalesID                                                             6333342  \n",
       "SalePrice                                                              7750  \n",
       "MachineID                                                           1926965  \n",
       "ModelID                                                               21435  \n",
       "datasource                                                              149  \n",
       "auctioneerID                                                              2  \n",
       "YearMade                                                               2005  \n",
       "MachineHoursCurrentMeter                                                NaN  \n",
       "UsageBand                                                               NaN  \n",
       "saledate                                                2011-10-25 00:00:00  \n",
       "fiModelDesc                                                            30NX  \n",
       "fiBaseModel                                                              30  \n",
       "fiSecondaryDesc                                                          NX  \n",
       "fiModelSeries                                                           NaN  \n",
       "fiModelDescriptor                                                       NaN  \n",
       "ProductSize                                                            Mini  \n",
       "fiProductClassDesc        Hydraulic Excavator, Track - 2.0 to 3.0 Metric...  \n",
       "state                                                               Florida  \n",
       "ProductGroup                                                            TEX  \n",
       "ProductGroupDesc                                           Track Excavators  \n",
       "Drive_System                                                            NaN  \n",
       "Enclosure                                                             EROPS  \n",
       "Forks                                                                   NaN  \n",
       "Pad_Type                                                                NaN  \n",
       "Ride_Control                                                            NaN  \n",
       "Stick                                                                   NaN  \n",
       "Transmission                                                            NaN  \n",
       "Turbocharged                                                            NaN  \n",
       "Blade_Extension                                                         NaN  \n",
       "Blade_Width                                                             NaN  \n",
       "Enclosure_Type                                                          NaN  \n",
       "Engine_Horsepower                                                       NaN  \n",
       "Hydraulics                                                         Standard  \n",
       "Pushblock                                                               NaN  \n",
       "Ripper                                                                  NaN  \n",
       "Scarifier                                                               NaN  \n",
       "Tip_Control                                                             NaN  \n",
       "Tire_Size                                                               NaN  \n",
       "Coupler                                                 None or Unspecified  \n",
       "Coupler_System                                                          NaN  \n",
       "Grouser_Tracks                                                          NaN  \n",
       "Hydraulics_Flow                                                         NaN  \n",
       "Track_Type                                                            Steel  \n",
       "Undercarriage_Pad_Width                                 None or Unspecified  \n",
       "Stick_Length                                            None or Unspecified  \n",
       "Thumb                                                   None or Unspecified  \n",
       "Pattern_Changer                                         None or Unspecified  \n",
       "Grouser_Type                                                         Double  \n",
       "Backhoe_Mounting                                                        NaN  \n",
       "Blade_Type                                                              NaN  \n",
       "Travel_Controls                                                         NaN  \n",
       "Differential_Type                                                       NaN  \n",
       "Steering_Controls                                                       NaN  "
      ]
     },
     "metadata": {},
     "output_type": "display_data"
    }
   ],
   "source": [
    "display_all(df_raw.tail().transpose())"
   ]
  },
  {
   "cell_type": "markdown",
   "metadata": {},
   "source": [
    "## evaluation criterion was root mean squared log error\n",
    "\n",
    "#### transform target using log"
   ]
  },
  {
   "cell_type": "code",
   "execution_count": 11,
   "metadata": {},
   "outputs": [],
   "source": [
    "df_raw.SalePrice = np.log(df_raw.SalePrice)"
   ]
  },
  {
   "cell_type": "markdown",
   "metadata": {},
   "source": [
    "### feature engineering on the date column"
   ]
  },
  {
   "cell_type": "code",
   "execution_count": 8,
   "metadata": {},
   "outputs": [],
   "source": [
    "add_datepart(df_raw, 'saledate')"
   ]
  },
  {
   "cell_type": "markdown",
   "metadata": {},
   "source": [
    "### changing data type of the string columns to category"
   ]
  },
  {
   "cell_type": "code",
   "execution_count": 9,
   "metadata": {},
   "outputs": [],
   "source": [
    "train_cats(df_raw)"
   ]
  },
  {
   "cell_type": "code",
   "execution_count": 10,
   "metadata": {},
   "outputs": [],
   "source": [
    "df_raw.UsageBand.cat.set_categories(['High', 'Medium', 'Low'], ordered = True, inplace = True)"
   ]
  },
  {
   "cell_type": "markdown",
   "metadata": {},
   "source": [
    "### checking for % of missing values in each column"
   ]
  },
  {
   "cell_type": "code",
   "execution_count": 14,
   "metadata": {
    "collapsed": true
   },
   "outputs": [
    {
     "data": {
      "text/plain": [
       "Pushblock                   0.937129\n",
       "Blade_Extension             0.937129\n",
       "Blade_Width                 0.937129\n",
       "Enclosure_Type              0.937129\n",
       "Engine_Horsepower           0.937129\n",
       "Tip_Control                 0.937129\n",
       "Scarifier                   0.937102\n",
       "Grouser_Tracks              0.891899\n",
       "Hydraulics_Flow             0.891899\n",
       "Coupler_System              0.891660\n",
       "fiModelSeries               0.858129\n",
       "Steering_Controls           0.827064\n",
       "Differential_Type           0.826959\n",
       "UsageBand                   0.826391\n",
       "fiModelDescriptor           0.820707\n",
       "Backhoe_Mounting            0.803872\n",
       "Pad_Type                    0.802720\n",
       "Stick                       0.802720\n",
       "Turbocharged                0.802720\n",
       "Blade_Type                  0.800977\n",
       "Travel_Controls             0.800975\n",
       "Tire_Size                   0.763869\n",
       "Track_Type                  0.752813\n",
       "Grouser_Type                0.752813\n",
       "Stick_Length                0.752651\n",
       "Pattern_Changer             0.752651\n",
       "Thumb                       0.752476\n",
       "Undercarriage_Pad_Width     0.751020\n",
       "Ripper                      0.740388\n",
       "Drive_System                0.739829\n",
       "MachineHoursCurrentMeter    0.644089\n",
       "Ride_Control                0.629527\n",
       "Transmission                0.543210\n",
       "ProductSize                 0.525460\n",
       "Forks                       0.521154\n",
       "Coupler                     0.466620\n",
       "fiSecondaryDesc             0.342016\n",
       "Hydraulics                  0.200823\n",
       "auctioneerID                0.050199\n",
       "Enclosure                   0.000810\n",
       "datasource                  0.000000\n",
       "MachineID                   0.000000\n",
       "SalePrice                   0.000000\n",
       "YearMade                    0.000000\n",
       "fiModelDesc                 0.000000\n",
       "fiProductClassDesc          0.000000\n",
       "fiBaseModel                 0.000000\n",
       "ModelID                     0.000000\n",
       "saleElapsed                 0.000000\n",
       "state                       0.000000\n",
       "ProductGroup                0.000000\n",
       "ProductGroupDesc            0.000000\n",
       "saleIs_year_start           0.000000\n",
       "saleYear                    0.000000\n",
       "saleMonth                   0.000000\n",
       "saleWeek                    0.000000\n",
       "saleDay                     0.000000\n",
       "saleDayofweek               0.000000\n",
       "saleDayofyear               0.000000\n",
       "saleIs_month_end            0.000000\n",
       "saleIs_month_start          0.000000\n",
       "saleIs_quarter_end          0.000000\n",
       "saleIs_quarter_start        0.000000\n",
       "saleIs_year_end             0.000000\n",
       "SalesID                     0.000000\n",
       "dtype: float64"
      ]
     },
     "metadata": {},
     "output_type": "display_data"
    }
   ],
   "source": [
    "display_all(df_raw.isnull().sum().sort_values(ascending = False)/len(df_raw))"
   ]
  },
  {
   "cell_type": "markdown",
   "metadata": {},
   "source": [
    "### saving the changes made in a feather format"
   ]
  },
  {
   "cell_type": "code",
   "execution_count": 15,
   "metadata": {},
   "outputs": [],
   "source": [
    "os.makedirs('tmp', exist_ok=True)\n",
    "df_raw.to_feather('tmp/raw')"
   ]
  },
  {
   "cell_type": "markdown",
   "metadata": {},
   "source": [
    "### can directly use the previously made feather file and you will see that all the changes made are still there"
   ]
  },
  {
   "cell_type": "code",
   "execution_count": 16,
   "metadata": {},
   "outputs": [
    {
     "name": "stderr",
     "output_type": "stream",
     "text": [
      "/home/ubuntu/anaconda3/lib/python3.6/site-packages/pyarrow/pandas_compat.py:742: FutureWarning: .labels was deprecated in version 0.24.0. Use .codes instead.\n",
      "  labels, = index.labels\n"
     ]
    }
   ],
   "source": [
    "df_raw = pd.read_feather('tmp/raw')"
   ]
  },
  {
   "cell_type": "markdown",
   "metadata": {},
   "source": [
    "## proc_df takes a data frame df and splits off the response variable, and changes the df into an entirely numeric dataframe\n",
    "\n",
    "### imputing missing numeric values with the median of the column\n",
    "### replacing values in the category column with an unique number for each level of the categorical variable"
   ]
  },
  {
   "cell_type": "code",
   "execution_count": 18,
   "metadata": {},
   "outputs": [],
   "source": [
    "df, y, nas = proc_df(df_raw, 'SalePrice')"
   ]
  },
  {
   "cell_type": "code",
   "execution_count": 19,
   "metadata": {},
   "outputs": [
    {
     "data": {
      "text/html": [
       "<div>\n",
       "<style scoped>\n",
       "    .dataframe tbody tr th:only-of-type {\n",
       "        vertical-align: middle;\n",
       "    }\n",
       "\n",
       "    .dataframe tbody tr th {\n",
       "        vertical-align: top;\n",
       "    }\n",
       "\n",
       "    .dataframe thead th {\n",
       "        text-align: right;\n",
       "    }\n",
       "</style>\n",
       "<table border=\"1\" class=\"dataframe\">\n",
       "  <thead>\n",
       "    <tr style=\"text-align: right;\">\n",
       "      <th></th>\n",
       "      <th>SalesID</th>\n",
       "      <th>MachineID</th>\n",
       "      <th>ModelID</th>\n",
       "      <th>datasource</th>\n",
       "      <th>auctioneerID</th>\n",
       "      <th>YearMade</th>\n",
       "      <th>MachineHoursCurrentMeter</th>\n",
       "      <th>UsageBand</th>\n",
       "      <th>fiModelDesc</th>\n",
       "      <th>fiBaseModel</th>\n",
       "      <th>fiSecondaryDesc</th>\n",
       "      <th>fiModelSeries</th>\n",
       "      <th>fiModelDescriptor</th>\n",
       "      <th>ProductSize</th>\n",
       "      <th>fiProductClassDesc</th>\n",
       "      <th>state</th>\n",
       "      <th>ProductGroup</th>\n",
       "      <th>ProductGroupDesc</th>\n",
       "      <th>Drive_System</th>\n",
       "      <th>Enclosure</th>\n",
       "      <th>Forks</th>\n",
       "      <th>Pad_Type</th>\n",
       "      <th>Ride_Control</th>\n",
       "      <th>Stick</th>\n",
       "      <th>Transmission</th>\n",
       "      <th>Turbocharged</th>\n",
       "      <th>Blade_Extension</th>\n",
       "      <th>Blade_Width</th>\n",
       "      <th>Enclosure_Type</th>\n",
       "      <th>Engine_Horsepower</th>\n",
       "      <th>Hydraulics</th>\n",
       "      <th>Pushblock</th>\n",
       "      <th>Ripper</th>\n",
       "      <th>Scarifier</th>\n",
       "      <th>Tip_Control</th>\n",
       "      <th>Tire_Size</th>\n",
       "      <th>Coupler</th>\n",
       "      <th>Coupler_System</th>\n",
       "      <th>Grouser_Tracks</th>\n",
       "      <th>Hydraulics_Flow</th>\n",
       "      <th>Track_Type</th>\n",
       "      <th>Undercarriage_Pad_Width</th>\n",
       "      <th>Stick_Length</th>\n",
       "      <th>Thumb</th>\n",
       "      <th>Pattern_Changer</th>\n",
       "      <th>Grouser_Type</th>\n",
       "      <th>Backhoe_Mounting</th>\n",
       "      <th>Blade_Type</th>\n",
       "      <th>Travel_Controls</th>\n",
       "      <th>Differential_Type</th>\n",
       "      <th>Steering_Controls</th>\n",
       "      <th>saleYear</th>\n",
       "      <th>saleMonth</th>\n",
       "      <th>saleWeek</th>\n",
       "      <th>saleDay</th>\n",
       "      <th>saleDayofweek</th>\n",
       "      <th>saleDayofyear</th>\n",
       "      <th>saleIs_month_end</th>\n",
       "      <th>saleIs_month_start</th>\n",
       "      <th>saleIs_quarter_end</th>\n",
       "      <th>saleIs_quarter_start</th>\n",
       "      <th>saleIs_year_end</th>\n",
       "      <th>saleIs_year_start</th>\n",
       "      <th>saleElapsed</th>\n",
       "      <th>auctioneerID_na</th>\n",
       "      <th>MachineHoursCurrentMeter_na</th>\n",
       "    </tr>\n",
       "  </thead>\n",
       "  <tbody>\n",
       "    <tr>\n",
       "      <th>0</th>\n",
       "      <td>1139246</td>\n",
       "      <td>999089</td>\n",
       "      <td>3157</td>\n",
       "      <td>121</td>\n",
       "      <td>3.0</td>\n",
       "      <td>2004</td>\n",
       "      <td>68.0</td>\n",
       "      <td>2</td>\n",
       "      <td>950</td>\n",
       "      <td>296</td>\n",
       "      <td>41</td>\n",
       "      <td>0</td>\n",
       "      <td>0</td>\n",
       "      <td>0</td>\n",
       "      <td>59</td>\n",
       "      <td>1</td>\n",
       "      <td>6</td>\n",
       "      <td>6</td>\n",
       "      <td>0</td>\n",
       "      <td>3</td>\n",
       "      <td>1</td>\n",
       "      <td>0</td>\n",
       "      <td>2</td>\n",
       "      <td>0</td>\n",
       "      <td>0</td>\n",
       "      <td>0</td>\n",
       "      <td>0</td>\n",
       "      <td>0</td>\n",
       "      <td>0</td>\n",
       "      <td>0</td>\n",
       "      <td>1</td>\n",
       "      <td>0</td>\n",
       "      <td>0</td>\n",
       "      <td>0</td>\n",
       "      <td>0</td>\n",
       "      <td>17</td>\n",
       "      <td>3</td>\n",
       "      <td>0</td>\n",
       "      <td>0</td>\n",
       "      <td>0</td>\n",
       "      <td>0</td>\n",
       "      <td>0</td>\n",
       "      <td>0</td>\n",
       "      <td>0</td>\n",
       "      <td>0</td>\n",
       "      <td>0</td>\n",
       "      <td>0</td>\n",
       "      <td>0</td>\n",
       "      <td>0</td>\n",
       "      <td>4</td>\n",
       "      <td>2</td>\n",
       "      <td>2006</td>\n",
       "      <td>11</td>\n",
       "      <td>46</td>\n",
       "      <td>16</td>\n",
       "      <td>3</td>\n",
       "      <td>320</td>\n",
       "      <td>False</td>\n",
       "      <td>False</td>\n",
       "      <td>False</td>\n",
       "      <td>False</td>\n",
       "      <td>False</td>\n",
       "      <td>False</td>\n",
       "      <td>1163635200</td>\n",
       "      <td>False</td>\n",
       "      <td>False</td>\n",
       "    </tr>\n",
       "    <tr>\n",
       "      <th>1</th>\n",
       "      <td>1139248</td>\n",
       "      <td>117657</td>\n",
       "      <td>77</td>\n",
       "      <td>121</td>\n",
       "      <td>3.0</td>\n",
       "      <td>1996</td>\n",
       "      <td>4640.0</td>\n",
       "      <td>2</td>\n",
       "      <td>1725</td>\n",
       "      <td>527</td>\n",
       "      <td>55</td>\n",
       "      <td>98</td>\n",
       "      <td>0</td>\n",
       "      <td>4</td>\n",
       "      <td>62</td>\n",
       "      <td>33</td>\n",
       "      <td>6</td>\n",
       "      <td>6</td>\n",
       "      <td>0</td>\n",
       "      <td>3</td>\n",
       "      <td>1</td>\n",
       "      <td>0</td>\n",
       "      <td>2</td>\n",
       "      <td>0</td>\n",
       "      <td>0</td>\n",
       "      <td>0</td>\n",
       "      <td>0</td>\n",
       "      <td>0</td>\n",
       "      <td>0</td>\n",
       "      <td>0</td>\n",
       "      <td>1</td>\n",
       "      <td>0</td>\n",
       "      <td>0</td>\n",
       "      <td>0</td>\n",
       "      <td>0</td>\n",
       "      <td>12</td>\n",
       "      <td>3</td>\n",
       "      <td>0</td>\n",
       "      <td>0</td>\n",
       "      <td>0</td>\n",
       "      <td>0</td>\n",
       "      <td>0</td>\n",
       "      <td>0</td>\n",
       "      <td>0</td>\n",
       "      <td>0</td>\n",
       "      <td>0</td>\n",
       "      <td>0</td>\n",
       "      <td>0</td>\n",
       "      <td>0</td>\n",
       "      <td>4</td>\n",
       "      <td>2</td>\n",
       "      <td>2004</td>\n",
       "      <td>3</td>\n",
       "      <td>13</td>\n",
       "      <td>26</td>\n",
       "      <td>4</td>\n",
       "      <td>86</td>\n",
       "      <td>False</td>\n",
       "      <td>False</td>\n",
       "      <td>False</td>\n",
       "      <td>False</td>\n",
       "      <td>False</td>\n",
       "      <td>False</td>\n",
       "      <td>1080259200</td>\n",
       "      <td>False</td>\n",
       "      <td>False</td>\n",
       "    </tr>\n",
       "    <tr>\n",
       "      <th>2</th>\n",
       "      <td>1139249</td>\n",
       "      <td>434808</td>\n",
       "      <td>7009</td>\n",
       "      <td>121</td>\n",
       "      <td>3.0</td>\n",
       "      <td>2001</td>\n",
       "      <td>2838.0</td>\n",
       "      <td>1</td>\n",
       "      <td>331</td>\n",
       "      <td>110</td>\n",
       "      <td>0</td>\n",
       "      <td>0</td>\n",
       "      <td>0</td>\n",
       "      <td>0</td>\n",
       "      <td>39</td>\n",
       "      <td>32</td>\n",
       "      <td>3</td>\n",
       "      <td>3</td>\n",
       "      <td>0</td>\n",
       "      <td>6</td>\n",
       "      <td>1</td>\n",
       "      <td>0</td>\n",
       "      <td>0</td>\n",
       "      <td>0</td>\n",
       "      <td>0</td>\n",
       "      <td>0</td>\n",
       "      <td>0</td>\n",
       "      <td>0</td>\n",
       "      <td>0</td>\n",
       "      <td>0</td>\n",
       "      <td>4</td>\n",
       "      <td>0</td>\n",
       "      <td>0</td>\n",
       "      <td>0</td>\n",
       "      <td>0</td>\n",
       "      <td>0</td>\n",
       "      <td>3</td>\n",
       "      <td>1</td>\n",
       "      <td>1</td>\n",
       "      <td>3</td>\n",
       "      <td>0</td>\n",
       "      <td>0</td>\n",
       "      <td>0</td>\n",
       "      <td>0</td>\n",
       "      <td>0</td>\n",
       "      <td>0</td>\n",
       "      <td>0</td>\n",
       "      <td>0</td>\n",
       "      <td>0</td>\n",
       "      <td>0</td>\n",
       "      <td>0</td>\n",
       "      <td>2004</td>\n",
       "      <td>2</td>\n",
       "      <td>9</td>\n",
       "      <td>26</td>\n",
       "      <td>3</td>\n",
       "      <td>57</td>\n",
       "      <td>False</td>\n",
       "      <td>False</td>\n",
       "      <td>False</td>\n",
       "      <td>False</td>\n",
       "      <td>False</td>\n",
       "      <td>False</td>\n",
       "      <td>1077753600</td>\n",
       "      <td>False</td>\n",
       "      <td>False</td>\n",
       "    </tr>\n",
       "    <tr>\n",
       "      <th>3</th>\n",
       "      <td>1139251</td>\n",
       "      <td>1026470</td>\n",
       "      <td>332</td>\n",
       "      <td>121</td>\n",
       "      <td>3.0</td>\n",
       "      <td>2001</td>\n",
       "      <td>3486.0</td>\n",
       "      <td>1</td>\n",
       "      <td>3674</td>\n",
       "      <td>1375</td>\n",
       "      <td>0</td>\n",
       "      <td>45</td>\n",
       "      <td>0</td>\n",
       "      <td>6</td>\n",
       "      <td>8</td>\n",
       "      <td>44</td>\n",
       "      <td>4</td>\n",
       "      <td>4</td>\n",
       "      <td>0</td>\n",
       "      <td>3</td>\n",
       "      <td>0</td>\n",
       "      <td>0</td>\n",
       "      <td>0</td>\n",
       "      <td>0</td>\n",
       "      <td>0</td>\n",
       "      <td>0</td>\n",
       "      <td>0</td>\n",
       "      <td>0</td>\n",
       "      <td>0</td>\n",
       "      <td>0</td>\n",
       "      <td>1</td>\n",
       "      <td>0</td>\n",
       "      <td>0</td>\n",
       "      <td>0</td>\n",
       "      <td>0</td>\n",
       "      <td>0</td>\n",
       "      <td>3</td>\n",
       "      <td>0</td>\n",
       "      <td>0</td>\n",
       "      <td>0</td>\n",
       "      <td>0</td>\n",
       "      <td>0</td>\n",
       "      <td>0</td>\n",
       "      <td>0</td>\n",
       "      <td>0</td>\n",
       "      <td>0</td>\n",
       "      <td>0</td>\n",
       "      <td>0</td>\n",
       "      <td>0</td>\n",
       "      <td>0</td>\n",
       "      <td>0</td>\n",
       "      <td>2011</td>\n",
       "      <td>5</td>\n",
       "      <td>20</td>\n",
       "      <td>19</td>\n",
       "      <td>3</td>\n",
       "      <td>139</td>\n",
       "      <td>False</td>\n",
       "      <td>False</td>\n",
       "      <td>False</td>\n",
       "      <td>False</td>\n",
       "      <td>False</td>\n",
       "      <td>False</td>\n",
       "      <td>1305763200</td>\n",
       "      <td>False</td>\n",
       "      <td>False</td>\n",
       "    </tr>\n",
       "    <tr>\n",
       "      <th>4</th>\n",
       "      <td>1139253</td>\n",
       "      <td>1057373</td>\n",
       "      <td>17311</td>\n",
       "      <td>121</td>\n",
       "      <td>3.0</td>\n",
       "      <td>2007</td>\n",
       "      <td>722.0</td>\n",
       "      <td>3</td>\n",
       "      <td>4208</td>\n",
       "      <td>1529</td>\n",
       "      <td>0</td>\n",
       "      <td>0</td>\n",
       "      <td>0</td>\n",
       "      <td>0</td>\n",
       "      <td>40</td>\n",
       "      <td>32</td>\n",
       "      <td>3</td>\n",
       "      <td>3</td>\n",
       "      <td>0</td>\n",
       "      <td>1</td>\n",
       "      <td>1</td>\n",
       "      <td>0</td>\n",
       "      <td>0</td>\n",
       "      <td>0</td>\n",
       "      <td>0</td>\n",
       "      <td>0</td>\n",
       "      <td>0</td>\n",
       "      <td>0</td>\n",
       "      <td>0</td>\n",
       "      <td>0</td>\n",
       "      <td>4</td>\n",
       "      <td>0</td>\n",
       "      <td>0</td>\n",
       "      <td>0</td>\n",
       "      <td>0</td>\n",
       "      <td>0</td>\n",
       "      <td>3</td>\n",
       "      <td>1</td>\n",
       "      <td>1</td>\n",
       "      <td>3</td>\n",
       "      <td>0</td>\n",
       "      <td>0</td>\n",
       "      <td>0</td>\n",
       "      <td>0</td>\n",
       "      <td>0</td>\n",
       "      <td>0</td>\n",
       "      <td>0</td>\n",
       "      <td>0</td>\n",
       "      <td>0</td>\n",
       "      <td>0</td>\n",
       "      <td>0</td>\n",
       "      <td>2009</td>\n",
       "      <td>7</td>\n",
       "      <td>30</td>\n",
       "      <td>23</td>\n",
       "      <td>3</td>\n",
       "      <td>204</td>\n",
       "      <td>False</td>\n",
       "      <td>False</td>\n",
       "      <td>False</td>\n",
       "      <td>False</td>\n",
       "      <td>False</td>\n",
       "      <td>False</td>\n",
       "      <td>1248307200</td>\n",
       "      <td>False</td>\n",
       "      <td>False</td>\n",
       "    </tr>\n",
       "  </tbody>\n",
       "</table>\n",
       "</div>"
      ],
      "text/plain": [
       "   SalesID  MachineID  ModelID  datasource  auctioneerID  YearMade  \\\n",
       "0  1139246     999089     3157         121           3.0      2004   \n",
       "1  1139248     117657       77         121           3.0      1996   \n",
       "2  1139249     434808     7009         121           3.0      2001   \n",
       "3  1139251    1026470      332         121           3.0      2001   \n",
       "4  1139253    1057373    17311         121           3.0      2007   \n",
       "\n",
       "   MachineHoursCurrentMeter  UsageBand  fiModelDesc  fiBaseModel  \\\n",
       "0                      68.0          2          950          296   \n",
       "1                    4640.0          2         1725          527   \n",
       "2                    2838.0          1          331          110   \n",
       "3                    3486.0          1         3674         1375   \n",
       "4                     722.0          3         4208         1529   \n",
       "\n",
       "   fiSecondaryDesc  fiModelSeries  fiModelDescriptor  ProductSize  \\\n",
       "0               41              0                  0            0   \n",
       "1               55             98                  0            4   \n",
       "2                0              0                  0            0   \n",
       "3                0             45                  0            6   \n",
       "4                0              0                  0            0   \n",
       "\n",
       "   fiProductClassDesc  state  ProductGroup  ProductGroupDesc  Drive_System  \\\n",
       "0                  59      1             6                 6             0   \n",
       "1                  62     33             6                 6             0   \n",
       "2                  39     32             3                 3             0   \n",
       "3                   8     44             4                 4             0   \n",
       "4                  40     32             3                 3             0   \n",
       "\n",
       "   Enclosure  Forks  Pad_Type  Ride_Control  Stick  Transmission  \\\n",
       "0          3      1         0             2      0             0   \n",
       "1          3      1         0             2      0             0   \n",
       "2          6      1         0             0      0             0   \n",
       "3          3      0         0             0      0             0   \n",
       "4          1      1         0             0      0             0   \n",
       "\n",
       "   Turbocharged  Blade_Extension  Blade_Width  Enclosure_Type  \\\n",
       "0             0                0            0               0   \n",
       "1             0                0            0               0   \n",
       "2             0                0            0               0   \n",
       "3             0                0            0               0   \n",
       "4             0                0            0               0   \n",
       "\n",
       "   Engine_Horsepower  Hydraulics  Pushblock  Ripper  Scarifier  Tip_Control  \\\n",
       "0                  0           1          0       0          0            0   \n",
       "1                  0           1          0       0          0            0   \n",
       "2                  0           4          0       0          0            0   \n",
       "3                  0           1          0       0          0            0   \n",
       "4                  0           4          0       0          0            0   \n",
       "\n",
       "   Tire_Size  Coupler  Coupler_System  Grouser_Tracks  Hydraulics_Flow  \\\n",
       "0         17        3               0               0                0   \n",
       "1         12        3               0               0                0   \n",
       "2          0        3               1               1                3   \n",
       "3          0        3               0               0                0   \n",
       "4          0        3               1               1                3   \n",
       "\n",
       "   Track_Type  Undercarriage_Pad_Width  Stick_Length  Thumb  Pattern_Changer  \\\n",
       "0           0                        0             0      0                0   \n",
       "1           0                        0             0      0                0   \n",
       "2           0                        0             0      0                0   \n",
       "3           0                        0             0      0                0   \n",
       "4           0                        0             0      0                0   \n",
       "\n",
       "   Grouser_Type  Backhoe_Mounting  Blade_Type  Travel_Controls  \\\n",
       "0             0                 0           0                0   \n",
       "1             0                 0           0                0   \n",
       "2             0                 0           0                0   \n",
       "3             0                 0           0                0   \n",
       "4             0                 0           0                0   \n",
       "\n",
       "   Differential_Type  Steering_Controls  saleYear  saleMonth  saleWeek  \\\n",
       "0                  4                  2      2006         11        46   \n",
       "1                  4                  2      2004          3        13   \n",
       "2                  0                  0      2004          2         9   \n",
       "3                  0                  0      2011          5        20   \n",
       "4                  0                  0      2009          7        30   \n",
       "\n",
       "   saleDay  saleDayofweek  saleDayofyear  saleIs_month_end  \\\n",
       "0       16              3            320             False   \n",
       "1       26              4             86             False   \n",
       "2       26              3             57             False   \n",
       "3       19              3            139             False   \n",
       "4       23              3            204             False   \n",
       "\n",
       "   saleIs_month_start  saleIs_quarter_end  saleIs_quarter_start  \\\n",
       "0               False               False                 False   \n",
       "1               False               False                 False   \n",
       "2               False               False                 False   \n",
       "3               False               False                 False   \n",
       "4               False               False                 False   \n",
       "\n",
       "   saleIs_year_end  saleIs_year_start  saleElapsed  auctioneerID_na  \\\n",
       "0            False              False   1163635200            False   \n",
       "1            False              False   1080259200            False   \n",
       "2            False              False   1077753600            False   \n",
       "3            False              False   1305763200            False   \n",
       "4            False              False   1248307200            False   \n",
       "\n",
       "   MachineHoursCurrentMeter_na  \n",
       "0                        False  \n",
       "1                        False  \n",
       "2                        False  \n",
       "3                        False  \n",
       "4                        False  "
      ]
     },
     "metadata": {},
     "output_type": "display_data"
    }
   ],
   "source": [
    "display_all(df.head())"
   ]
  },
  {
   "cell_type": "markdown",
   "metadata": {},
   "source": [
    "### building a basic random forest model to predict sale price"
   ]
  },
  {
   "cell_type": "code",
   "execution_count": 20,
   "metadata": {},
   "outputs": [
    {
     "data": {
      "text/plain": [
       "0.9824847545836162"
      ]
     },
     "execution_count": 20,
     "metadata": {},
     "output_type": "execute_result"
    }
   ],
   "source": [
    "m = RandomForestRegressor(n_jobs=-1)\n",
    "m.fit(df, y)\n",
    "m.score(df, y) # train R^2 values"
   ]
  },
  {
   "cell_type": "code",
   "execution_count": 21,
   "metadata": {},
   "outputs": [
    {
     "data": {
      "text/plain": [
       "8.241519514007675e-05"
      ]
     },
     "execution_count": 21,
     "metadata": {},
     "output_type": "execute_result"
    }
   ],
   "source": [
    "metrics.mean_squared_error(y, m.predict(df)) # train mse value"
   ]
  },
  {
   "cell_type": "code",
   "execution_count": 22,
   "metadata": {},
   "outputs": [
    {
     "data": {
      "text/plain": [
       "0.009078281508087128"
      ]
     },
     "execution_count": 22,
     "metadata": {},
     "output_type": "execute_result"
    }
   ],
   "source": [
    "np.sqrt(metrics.mean_squared_error(y, m.predict(df))) # train rmse value"
   ]
  },
  {
   "cell_type": "markdown",
   "metadata": {},
   "source": [
    "### reading test data"
   ]
  },
  {
   "cell_type": "code",
   "execution_count": 23,
   "metadata": {},
   "outputs": [],
   "source": [
    "df_test = pd.read_csv(f'{path}Valid.csv', low_memory=False, parse_dates=[\"saledate\"])"
   ]
  },
  {
   "cell_type": "code",
   "execution_count": 24,
   "metadata": {},
   "outputs": [
    {
     "data": {
      "text/plain": [
       "(11573, 52)"
      ]
     },
     "execution_count": 24,
     "metadata": {},
     "output_type": "execute_result"
    }
   ],
   "source": [
    "df_test.shape"
   ]
  },
  {
   "cell_type": "code",
   "execution_count": 26,
   "metadata": {},
   "outputs": [
    {
     "data": {
      "text/plain": [
       "(401125, 65)"
      ]
     },
     "execution_count": 26,
     "metadata": {},
     "output_type": "execute_result"
    }
   ],
   "source": [
    "df_raw.shape"
   ]
  },
  {
   "cell_type": "markdown",
   "metadata": {},
   "source": [
    "### if the test data set contains data points in the future, then split train data set such that the validation data set contains the latest data points becoz here assumption is that data points are more related to t-1, t-2, etc data points "
   ]
  },
  {
   "cell_type": "code",
   "execution_count": 27,
   "metadata": {},
   "outputs": [],
   "source": [
    "def split_vals(a, n): return a[:n].copy(), a[n:].copy()"
   ]
  },
  {
   "cell_type": "markdown",
   "metadata": {},
   "source": [
    "### took a sample of 12000 data points from the train data set and assigned them to a validation data set to match the total data points in the test data set"
   ]
  },
  {
   "cell_type": "code",
   "execution_count": 28,
   "metadata": {},
   "outputs": [],
   "source": [
    "n_valid = 12000\n",
    "n_trn = len(df) - n_valid"
   ]
  },
  {
   "cell_type": "code",
   "execution_count": 29,
   "metadata": {},
   "outputs": [
    {
     "data": {
      "text/plain": [
       "((389125, 66), (12000, 66), (389125,), (12000,))"
      ]
     },
     "execution_count": 29,
     "metadata": {},
     "output_type": "execute_result"
    }
   ],
   "source": [
    "raw_train, raw_valid = split_vals(df_raw, n_trn)\n",
    "X_train, X_valid = split_vals(df, n_trn)\n",
    "y_train, y_valid = split_vals(y, n_trn)\n",
    "\n",
    "X_train.shape, X_valid.shape, y_train.shape, y_valid.shape"
   ]
  },
  {
   "cell_type": "markdown",
   "metadata": {},
   "source": [
    "### defined a function to calculate rmse, r^2, oob_score values for the train and validation data set"
   ]
  },
  {
   "cell_type": "code",
   "execution_count": 30,
   "metadata": {},
   "outputs": [],
   "source": [
    "def rmse(x,y): return math.sqrt(((x-y)**2).mean())\n",
    "\n",
    "def print_score(m):\n",
    "    res = [rmse(m.predict(X_train), y_train), rmse(m.predict(X_valid), y_valid), \n",
    "           m.score(X_train, y_train), m.score(X_valid, y_valid)]\n",
    "    if hasattr(m, 'oob_score_'): res.append(m.oob_score_)\n",
    "    print(res)"
   ]
  },
  {
   "cell_type": "code",
   "execution_count": 31,
   "metadata": {},
   "outputs": [
    {
     "name": "stdout",
     "output_type": "stream",
     "text": [
      "CPU times: user 1min 23s, sys: 196 ms, total: 1min 23s\n",
      "Wall time: 25.1 s\n",
      "[0.00906990166425411, 0.025176354526142995, 0.9824156185351363, 0.8850930030294002]\n"
     ]
    }
   ],
   "source": [
    "m = RandomForestRegressor(n_jobs=-1)\n",
    "%time m.fit(X_train, y_train)\n",
    "print_score(m)"
   ]
  },
  {
   "cell_type": "markdown",
   "metadata": {},
   "source": [
    "### extra for practice - start"
   ]
  },
  {
   "cell_type": "code",
   "execution_count": 37,
   "metadata": {},
   "outputs": [],
   "source": [
    "df_trn, y_trn, nas = proc_df(df_raw, 'SalePrice', subset=30000)\n",
    "X_train, _ = split_vals(df_trn, 20000)\n",
    "y_train, _ = split_vals(y_trn, 20000)"
   ]
  },
  {
   "cell_type": "code",
   "execution_count": 38,
   "metadata": {},
   "outputs": [
    {
     "name": "stdout",
     "output_type": "stream",
     "text": [
      "CPU times: user 3.56 s, sys: 4 ms, total: 3.56 s\n",
      "Wall time: 1.09 s\n",
      "[0.1150135916610573, 0.3812397679756756, 0.9706086457002446, 0.7404360544507093]\n"
     ]
    }
   ],
   "source": [
    "m = RandomForestRegressor(n_jobs=-1)\n",
    "%time m.fit(X_train, y_train)\n",
    "print_score(m)"
   ]
  },
  {
   "cell_type": "code",
   "execution_count": 40,
   "metadata": {},
   "outputs": [
    {
     "name": "stdout",
     "output_type": "stream",
     "text": [
      "CPU times: user 148 ms, sys: 0 ns, total: 148 ms\n",
      "Wall time: 180 ms\n",
      "[0.5204898615126017, 0.5812518035347155, 0.39807024094307275, 0.3966398807662924]\n"
     ]
    }
   ],
   "source": [
    "m = RandomForestRegressor(n_estimators=1, max_depth=3, bootstrap=False, n_jobs=-1)\n",
    "%time m.fit(X_train, y_train)\n",
    "print_score(m)"
   ]
  },
  {
   "cell_type": "code",
   "execution_count": 48,
   "metadata": {
    "scrolled": false
   },
   "outputs": [
    {
     "data": {
      "image/svg+xml": [
       "<?xml version=\"1.0\" encoding=\"UTF-8\" standalone=\"no\"?>\n",
       "<!DOCTYPE svg PUBLIC \"-//W3C//DTD SVG 1.1//EN\"\n",
       " \"http://www.w3.org/Graphics/SVG/1.1/DTD/svg11.dtd\">\n",
       "<!-- Generated by graphviz version 2.40.1 (20161225.0304)\n",
       " -->\n",
       "<!-- Title: Tree Pages: 1 -->\n",
       "<svg width=\"720pt\" height=\"434pt\"\n",
       " viewBox=\"0.00 0.00 720.00 434.49\" xmlns=\"http://www.w3.org/2000/svg\" xmlns:xlink=\"http://www.w3.org/1999/xlink\">\n",
       "<g id=\"graph0\" class=\"graph\" transform=\"scale(.7787 .7787) rotate(0) translate(4 554)\">\n",
       "<title>Tree</title>\n",
       "<polygon fill=\"#ffffff\" stroke=\"transparent\" points=\"-4,4 -4,-554 920.6667,-554 920.6667,4 -4,4\"/>\n",
       "<!-- 0 -->\n",
       "<g id=\"node1\" class=\"node\">\n",
       "<title>0</title>\n",
       "<polygon fill=\"#e58139\" fill-opacity=\"0.745098\" stroke=\"#000000\" points=\"169.6667,-336.5 29.6667,-336.5 29.6667,-268.5 169.6667,-268.5 169.6667,-336.5\"/>\n",
       "<text text-anchor=\"start\" x=\"37.6667\" y=\"-321.3\" font-family=\"Times,serif\" font-size=\"14.00\" fill=\"#000000\">Coupler_System ≤ 0.5</text>\n",
       "<text text-anchor=\"start\" x=\"68.1667\" y=\"-306.3\" font-family=\"Times,serif\" font-size=\"14.00\" fill=\"#000000\">mse = 0.45</text>\n",
       "<text text-anchor=\"start\" x=\"52.6667\" y=\"-291.3\" font-family=\"Times,serif\" font-size=\"14.00\" fill=\"#000000\">samples = 20000</text>\n",
       "<text text-anchor=\"start\" x=\"58.1667\" y=\"-276.3\" font-family=\"Times,serif\" font-size=\"14.00\" fill=\"#000000\">value = 10.109</text>\n",
       "</g>\n",
       "<!-- 1 -->\n",
       "<g id=\"node2\" class=\"node\">\n",
       "<title>1</title>\n",
       "<polygon fill=\"#e58139\" fill-opacity=\"0.800000\" stroke=\"#000000\" points=\"405.6667,-372.5 277.6667,-372.5 277.6667,-304.5 405.6667,-304.5 405.6667,-372.5\"/>\n",
       "<text text-anchor=\"start\" x=\"285.6667\" y=\"-357.3\" font-family=\"Times,serif\" font-size=\"14.00\" fill=\"#000000\">YearMade ≤ 1985.5</text>\n",
       "<text text-anchor=\"start\" x=\"306.6667\" y=\"-342.3\" font-family=\"Times,serif\" font-size=\"14.00\" fill=\"#000000\">mse = 0.396</text>\n",
       "<text text-anchor=\"start\" x=\"294.6667\" y=\"-327.3\" font-family=\"Times,serif\" font-size=\"14.00\" fill=\"#000000\">samples = 18294</text>\n",
       "<text text-anchor=\"start\" x=\"300.1667\" y=\"-312.3\" font-family=\"Times,serif\" font-size=\"14.00\" fill=\"#000000\">value = 10.195</text>\n",
       "</g>\n",
       "<!-- 0&#45;&gt;1 -->\n",
       "<g id=\"edge1\" class=\"edge\">\n",
       "<title>0&#45;&gt;1</title>\n",
       "<path fill=\"none\" stroke=\"#000000\" d=\"M169.9882,-312.961C200.4554,-317.4934 236.1549,-322.804 267.0847,-327.4052\"/>\n",
       "<polygon fill=\"#000000\" stroke=\"#000000\" points=\"266.9705,-330.9266 277.3767,-328.9362 268.0006,-324.0028 266.9705,-330.9266\"/>\n",
       "<text text-anchor=\"middle\" x=\"257.2903\" y=\"-340.1204\" font-family=\"Times,serif\" font-size=\"14.00\" fill=\"#000000\">True</text>\n",
       "</g>\n",
       "<!-- 8 -->\n",
       "<g id=\"node9\" class=\"node\">\n",
       "<title>8</title>\n",
       "<polygon fill=\"#e58139\" fill-opacity=\"0.164706\" stroke=\"#000000\" points=\"405.6667,-245.5 277.6667,-245.5 277.6667,-177.5 405.6667,-177.5 405.6667,-245.5\"/>\n",
       "<text text-anchor=\"start\" x=\"285.6667\" y=\"-230.3\" font-family=\"Times,serif\" font-size=\"14.00\" fill=\"#000000\">YearMade ≤ 1998.5</text>\n",
       "<text text-anchor=\"start\" x=\"306.6667\" y=\"-215.3\" font-family=\"Times,serif\" font-size=\"14.00\" fill=\"#000000\">mse = 0.107</text>\n",
       "<text text-anchor=\"start\" x=\"297.6667\" y=\"-200.3\" font-family=\"Times,serif\" font-size=\"14.00\" fill=\"#000000\">samples = 1706</text>\n",
       "<text text-anchor=\"start\" x=\"306.6667\" y=\"-185.3\" font-family=\"Times,serif\" font-size=\"14.00\" fill=\"#000000\">value = 9.19</text>\n",
       "</g>\n",
       "<!-- 0&#45;&gt;8 -->\n",
       "<g id=\"edge8\" class=\"edge\">\n",
       "<title>0&#45;&gt;8</title>\n",
       "<path fill=\"none\" stroke=\"#000000\" d=\"M169.9882,-276.0568C200.7204,-264.5005 236.7761,-250.9423 267.8905,-239.2423\"/>\n",
       "<polygon fill=\"#000000\" stroke=\"#000000\" points=\"269.2485,-242.471 277.3767,-235.6751 266.7847,-235.9189 269.2485,-242.471\"/>\n",
       "<text text-anchor=\"middle\" x=\"254.6082\" y=\"-221.6507\" font-family=\"Times,serif\" font-size=\"14.00\" fill=\"#000000\">False</text>\n",
       "</g>\n",
       "<!-- 2 -->\n",
       "<g id=\"node3\" class=\"node\">\n",
       "<title>2</title>\n",
       "<polygon fill=\"#e58139\" fill-opacity=\"0.592157\" stroke=\"#000000\" points=\"660.6667,-486.5 540.6667,-486.5 540.6667,-418.5 660.6667,-418.5 660.6667,-486.5\"/>\n",
       "<text text-anchor=\"start\" x=\"548.6667\" y=\"-471.3\" font-family=\"Times,serif\" font-size=\"14.00\" fill=\"#000000\">ModelID ≤ 4243.5</text>\n",
       "<text text-anchor=\"start\" x=\"565.6667\" y=\"-456.3\" font-family=\"Times,serif\" font-size=\"14.00\" fill=\"#000000\">mse = 0.326</text>\n",
       "<text text-anchor=\"start\" x=\"556.6667\" y=\"-441.3\" font-family=\"Times,serif\" font-size=\"14.00\" fill=\"#000000\">samples = 5800</text>\n",
       "<text text-anchor=\"start\" x=\"565.6667\" y=\"-426.3\" font-family=\"Times,serif\" font-size=\"14.00\" fill=\"#000000\">value = 9.87</text>\n",
       "</g>\n",
       "<!-- 1&#45;&gt;2 -->\n",
       "<g id=\"edge2\" class=\"edge\">\n",
       "<title>1&#45;&gt;2</title>\n",
       "<path fill=\"none\" stroke=\"#000000\" d=\"M405.6892,-366.6798C443.8266,-383.4661 492.2455,-404.7779 531.2915,-421.9642\"/>\n",
       "<polygon fill=\"#000000\" stroke=\"#000000\" points=\"529.9287,-425.1884 540.4914,-426.0136 532.7488,-418.7815 529.9287,-425.1884\"/>\n",
       "</g>\n",
       "<!-- 5 -->\n",
       "<g id=\"node6\" class=\"node\">\n",
       "<title>5</title>\n",
       "<polygon fill=\"#e58139\" fill-opacity=\"0.894118\" stroke=\"#000000\" points=\"678.6667,-372.5 522.6667,-372.5 522.6667,-304.5 678.6667,-304.5 678.6667,-372.5\"/>\n",
       "<text text-anchor=\"start\" x=\"530.6667\" y=\"-357.3\" font-family=\"Times,serif\" font-size=\"14.00\" fill=\"#000000\">fiProductClassDesc ≤ 7.5</text>\n",
       "<text text-anchor=\"start\" x=\"565.6667\" y=\"-342.3\" font-family=\"Times,serif\" font-size=\"14.00\" fill=\"#000000\">mse = 0.357</text>\n",
       "<text text-anchor=\"start\" x=\"553.6667\" y=\"-327.3\" font-family=\"Times,serif\" font-size=\"14.00\" fill=\"#000000\">samples = 12494</text>\n",
       "<text text-anchor=\"start\" x=\"559.1667\" y=\"-312.3\" font-family=\"Times,serif\" font-size=\"14.00\" fill=\"#000000\">value = 10.346</text>\n",
       "</g>\n",
       "<!-- 1&#45;&gt;5 -->\n",
       "<g id=\"edge5\" class=\"edge\">\n",
       "<title>1&#45;&gt;5</title>\n",
       "<path fill=\"none\" stroke=\"#000000\" d=\"M405.6892,-338.5C437.8656,-338.5 477.3607,-338.5 512.3706,-338.5\"/>\n",
       "<polygon fill=\"#000000\" stroke=\"#000000\" points=\"512.5959,-342.0001 522.5959,-338.5 512.5959,-335.0001 512.5959,-342.0001\"/>\n",
       "</g>\n",
       "<!-- 3 -->\n",
       "<g id=\"node4\" class=\"node\">\n",
       "<title>3</title>\n",
       "<polygon fill=\"#e58139\" fill-opacity=\"0.725490\" stroke=\"#000000\" points=\"894.6667,-550 790.6667,-550 790.6667,-497 894.6667,-497 894.6667,-550\"/>\n",
       "<text text-anchor=\"start\" x=\"807.6667\" y=\"-534.8\" font-family=\"Times,serif\" font-size=\"14.00\" fill=\"#000000\">mse = 0.357</text>\n",
       "<text text-anchor=\"start\" x=\"798.6667\" y=\"-519.8\" font-family=\"Times,serif\" font-size=\"14.00\" fill=\"#000000\">samples = 2844</text>\n",
       "<text text-anchor=\"start\" x=\"801.1667\" y=\"-504.8\" font-family=\"Times,serif\" font-size=\"14.00\" fill=\"#000000\">value = 10.077</text>\n",
       "</g>\n",
       "<!-- 2&#45;&gt;3 -->\n",
       "<g id=\"edge3\" class=\"edge\">\n",
       "<title>2&#45;&gt;3</title>\n",
       "<path fill=\"none\" stroke=\"#000000\" d=\"M660.7978,-470.1418C697.4204,-480.8864 744.1021,-494.5823 781.0007,-505.4079\"/>\n",
       "<polygon fill=\"#000000\" stroke=\"#000000\" points=\"780.0633,-508.7804 790.6442,-508.2372 782.034,-502.0635 780.0633,-508.7804\"/>\n",
       "</g>\n",
       "<!-- 4 -->\n",
       "<g id=\"node5\" class=\"node\">\n",
       "<title>4</title>\n",
       "<polygon fill=\"#e58139\" fill-opacity=\"0.466667\" stroke=\"#000000\" points=\"894.6667,-479 790.6667,-479 790.6667,-426 894.6667,-426 894.6667,-479\"/>\n",
       "<text text-anchor=\"start\" x=\"807.6667\" y=\"-463.8\" font-family=\"Times,serif\" font-size=\"14.00\" fill=\"#000000\">mse = 0.215</text>\n",
       "<text text-anchor=\"start\" x=\"798.6667\" y=\"-448.8\" font-family=\"Times,serif\" font-size=\"14.00\" fill=\"#000000\">samples = 2956</text>\n",
       "<text text-anchor=\"start\" x=\"807.6667\" y=\"-433.8\" font-family=\"Times,serif\" font-size=\"14.00\" fill=\"#000000\">value = 9.67</text>\n",
       "</g>\n",
       "<!-- 2&#45;&gt;4 -->\n",
       "<g id=\"edge4\" class=\"edge\">\n",
       "<title>2&#45;&gt;4</title>\n",
       "<path fill=\"none\" stroke=\"#000000\" d=\"M660.7978,-452.5C697.2645,-452.5 743.7049,-452.5 780.5292,-452.5\"/>\n",
       "<polygon fill=\"#000000\" stroke=\"#000000\" points=\"780.6442,-456.0001 790.6442,-452.5 780.6442,-449.0001 780.6442,-456.0001\"/>\n",
       "</g>\n",
       "<!-- 6 -->\n",
       "<g id=\"node7\" class=\"node\">\n",
       "<title>6</title>\n",
       "<polygon fill=\"#e58139\" fill-opacity=\"0.647059\" stroke=\"#000000\" points=\"894.6667,-408 790.6667,-408 790.6667,-355 894.6667,-355 894.6667,-408\"/>\n",
       "<text text-anchor=\"start\" x=\"807.6667\" y=\"-392.8\" font-family=\"Times,serif\" font-size=\"14.00\" fill=\"#000000\">mse = 0.126</text>\n",
       "<text text-anchor=\"start\" x=\"798.6667\" y=\"-377.8\" font-family=\"Times,serif\" font-size=\"14.00\" fill=\"#000000\">samples = 3734</text>\n",
       "<text text-anchor=\"start\" x=\"804.6667\" y=\"-362.8\" font-family=\"Times,serif\" font-size=\"14.00\" fill=\"#000000\">value = 9.954</text>\n",
       "</g>\n",
       "<!-- 5&#45;&gt;6 -->\n",
       "<g id=\"edge6\" class=\"edge\">\n",
       "<title>5&#45;&gt;6</title>\n",
       "<path fill=\"none\" stroke=\"#000000\" d=\"M678.9029,-352.4015C711.781,-358.2435 749.4933,-364.9444 780.4344,-370.4422\"/>\n",
       "<polygon fill=\"#000000\" stroke=\"#000000\" points=\"780.1931,-373.9541 790.6512,-372.2576 781.4177,-367.062 780.1931,-373.9541\"/>\n",
       "</g>\n",
       "<!-- 7 -->\n",
       "<g id=\"node8\" class=\"node\">\n",
       "<title>7</title>\n",
       "<polygon fill=\"#e58139\" stroke=\"#000000\" points=\"894.6667,-337 790.6667,-337 790.6667,-284 894.6667,-284 894.6667,-337\"/>\n",
       "<text text-anchor=\"start\" x=\"807.6667\" y=\"-321.8\" font-family=\"Times,serif\" font-size=\"14.00\" fill=\"#000000\">mse = 0.362</text>\n",
       "<text text-anchor=\"start\" x=\"798.6667\" y=\"-306.8\" font-family=\"Times,serif\" font-size=\"14.00\" fill=\"#000000\">samples = 8760</text>\n",
       "<text text-anchor=\"start\" x=\"801.1667\" y=\"-291.8\" font-family=\"Times,serif\" font-size=\"14.00\" fill=\"#000000\">value = 10.513</text>\n",
       "</g>\n",
       "<!-- 5&#45;&gt;7 -->\n",
       "<g id=\"edge7\" class=\"edge\">\n",
       "<title>5&#45;&gt;7</title>\n",
       "<path fill=\"none\" stroke=\"#000000\" d=\"M678.9029,-329.4479C711.781,-325.6438 749.4933,-321.2804 780.4344,-317.7004\"/>\n",
       "<polygon fill=\"#000000\" stroke=\"#000000\" points=\"781.1197,-321.1446 790.6512,-316.5183 780.3151,-314.191 781.1197,-321.1446\"/>\n",
       "</g>\n",
       "<!-- 9 -->\n",
       "<g id=\"node10\" class=\"node\">\n",
       "<title>9</title>\n",
       "<polygon fill=\"#e58139\" fill-opacity=\"0.078431\" stroke=\"#000000\" points=\"682.1667,-245.5 519.1667,-245.5 519.1667,-177.5 682.1667,-177.5 682.1667,-245.5\"/>\n",
       "<text text-anchor=\"start\" x=\"527.1667\" y=\"-230.3\" font-family=\"Times,serif\" font-size=\"14.00\" fill=\"#000000\">fiProductClassDesc ≤ 38.5</text>\n",
       "<text text-anchor=\"start\" x=\"565.6667\" y=\"-215.3\" font-family=\"Times,serif\" font-size=\"14.00\" fill=\"#000000\">mse = 0.086</text>\n",
       "<text text-anchor=\"start\" x=\"560.1667\" y=\"-200.3\" font-family=\"Times,serif\" font-size=\"14.00\" fill=\"#000000\">samples = 944</text>\n",
       "<text text-anchor=\"start\" x=\"562.6667\" y=\"-185.3\" font-family=\"Times,serif\" font-size=\"14.00\" fill=\"#000000\">value = 9.055</text>\n",
       "</g>\n",
       "<!-- 8&#45;&gt;9 -->\n",
       "<g id=\"edge9\" class=\"edge\">\n",
       "<title>8&#45;&gt;9</title>\n",
       "<path fill=\"none\" stroke=\"#000000\" d=\"M405.6892,-211.5C436.6415,-211.5 474.3661,-211.5 508.356,-211.5\"/>\n",
       "<polygon fill=\"#000000\" stroke=\"#000000\" points=\"508.7731,-215.0001 518.773,-211.5 508.773,-208.0001 508.7731,-215.0001\"/>\n",
       "</g>\n",
       "<!-- 12 -->\n",
       "<g id=\"node13\" class=\"node\">\n",
       "<title>12</title>\n",
       "<polygon fill=\"#e58139\" fill-opacity=\"0.270588\" stroke=\"#000000\" points=\"673.6667,-131.5 527.6667,-131.5 527.6667,-63.5 673.6667,-63.5 673.6667,-131.5\"/>\n",
       "<text text-anchor=\"start\" x=\"535.6667\" y=\"-116.3\" font-family=\"Times,serif\" font-size=\"14.00\" fill=\"#000000\">MachineID ≤ 971237.0</text>\n",
       "<text text-anchor=\"start\" x=\"565.6667\" y=\"-101.3\" font-family=\"Times,serif\" font-size=\"14.00\" fill=\"#000000\">mse = 0.083</text>\n",
       "<text text-anchor=\"start\" x=\"560.1667\" y=\"-86.3\" font-family=\"Times,serif\" font-size=\"14.00\" fill=\"#000000\">samples = 762</text>\n",
       "<text text-anchor=\"start\" x=\"562.6667\" y=\"-71.3\" font-family=\"Times,serif\" font-size=\"14.00\" fill=\"#000000\">value = 9.356</text>\n",
       "</g>\n",
       "<!-- 8&#45;&gt;12 -->\n",
       "<g id=\"edge12\" class=\"edge\">\n",
       "<title>8&#45;&gt;12</title>\n",
       "<path fill=\"none\" stroke=\"#000000\" d=\"M405.6892,-183.3202C439.5169,-168.4308 481.4338,-149.9809 517.7238,-134.0077\"/>\n",
       "<polygon fill=\"#000000\" stroke=\"#000000\" points=\"519.5654,-137.0212 527.308,-129.7892 516.7453,-130.6144 519.5654,-137.0212\"/>\n",
       "</g>\n",
       "<!-- 10 -->\n",
       "<g id=\"node11\" class=\"node\">\n",
       "<title>10</title>\n",
       "<polygon fill=\"transparent\" stroke=\"#000000\" points=\"891.1667,-266 794.1667,-266 794.1667,-213 891.1667,-213 891.1667,-266\"/>\n",
       "<text text-anchor=\"start\" x=\"807.6667\" y=\"-250.8\" font-family=\"Times,serif\" font-size=\"14.00\" fill=\"#000000\">mse = 0.045</text>\n",
       "<text text-anchor=\"start\" x=\"802.1667\" y=\"-235.8\" font-family=\"Times,serif\" font-size=\"14.00\" fill=\"#000000\">samples = 284</text>\n",
       "<text text-anchor=\"start\" x=\"807.6667\" y=\"-220.8\" font-family=\"Times,serif\" font-size=\"14.00\" fill=\"#000000\">value = 8.93</text>\n",
       "</g>\n",
       "<!-- 9&#45;&gt;10 -->\n",
       "<g id=\"edge10\" class=\"edge\">\n",
       "<title>9&#45;&gt;10</title>\n",
       "<path fill=\"none\" stroke=\"#000000\" d=\"M682.2594,-220.9405C715.5453,-224.7917 753.2975,-229.1598 783.8121,-232.6904\"/>\n",
       "<polygon fill=\"#000000\" stroke=\"#000000\" points=\"783.5301,-236.181 793.8661,-233.8537 784.3347,-229.2274 783.5301,-236.181\"/>\n",
       "</g>\n",
       "<!-- 11 -->\n",
       "<g id=\"node12\" class=\"node\">\n",
       "<title>11</title>\n",
       "<polygon fill=\"#e58139\" fill-opacity=\"0.113725\" stroke=\"#000000\" points=\"891.1667,-195 794.1667,-195 794.1667,-142 891.1667,-142 891.1667,-195\"/>\n",
       "<text text-anchor=\"start\" x=\"807.6667\" y=\"-179.8\" font-family=\"Times,serif\" font-size=\"14.00\" fill=\"#000000\">mse = 0.094</text>\n",
       "<text text-anchor=\"start\" x=\"802.1667\" y=\"-164.8\" font-family=\"Times,serif\" font-size=\"14.00\" fill=\"#000000\">samples = 660</text>\n",
       "<text text-anchor=\"start\" x=\"804.6667\" y=\"-149.8\" font-family=\"Times,serif\" font-size=\"14.00\" fill=\"#000000\">value = 9.109</text>\n",
       "</g>\n",
       "<!-- 9&#45;&gt;11 -->\n",
       "<g id=\"edge11\" class=\"edge\">\n",
       "<title>9&#45;&gt;11</title>\n",
       "<path fill=\"none\" stroke=\"#000000\" d=\"M682.2594,-197.0021C715.5453,-191.0877 753.2975,-184.3796 783.8121,-178.9576\"/>\n",
       "<polygon fill=\"#000000\" stroke=\"#000000\" points=\"784.6327,-182.3667 793.8661,-177.1712 783.408,-175.4747 784.6327,-182.3667\"/>\n",
       "</g>\n",
       "<!-- 13 -->\n",
       "<g id=\"node14\" class=\"node\">\n",
       "<title>13</title>\n",
       "<polygon fill=\"#e58139\" fill-opacity=\"0.368627\" stroke=\"#000000\" points=\"891.1667,-124 794.1667,-124 794.1667,-71 891.1667,-71 891.1667,-124\"/>\n",
       "<text text-anchor=\"start\" x=\"807.6667\" y=\"-108.8\" font-family=\"Times,serif\" font-size=\"14.00\" fill=\"#000000\">mse = 0.058</text>\n",
       "<text text-anchor=\"start\" x=\"802.1667\" y=\"-93.8\" font-family=\"Times,serif\" font-size=\"14.00\" fill=\"#000000\">samples = 165</text>\n",
       "<text text-anchor=\"start\" x=\"804.6667\" y=\"-78.8\" font-family=\"Times,serif\" font-size=\"14.00\" fill=\"#000000\">value = 9.512</text>\n",
       "</g>\n",
       "<!-- 12&#45;&gt;13 -->\n",
       "<g id=\"edge13\" class=\"edge\">\n",
       "<title>12&#45;&gt;13</title>\n",
       "<path fill=\"none\" stroke=\"#000000\" d=\"M673.9314,-97.5C709.0796,-97.5 750.6278,-97.5 783.7005,-97.5\"/>\n",
       "<polygon fill=\"#000000\" stroke=\"#000000\" points=\"784.1218,-101.0001 794.1217,-97.5 784.1217,-94.0001 784.1218,-101.0001\"/>\n",
       "</g>\n",
       "<!-- 14 -->\n",
       "<g id=\"node15\" class=\"node\">\n",
       "<title>14</title>\n",
       "<polygon fill=\"#e58139\" fill-opacity=\"0.243137\" stroke=\"#000000\" points=\"891.1667,-53 794.1667,-53 794.1667,0 891.1667,0 891.1667,-53\"/>\n",
       "<text text-anchor=\"start\" x=\"807.6667\" y=\"-37.8\" font-family=\"Times,serif\" font-size=\"14.00\" fill=\"#000000\">mse = 0.081</text>\n",
       "<text text-anchor=\"start\" x=\"802.1667\" y=\"-22.8\" font-family=\"Times,serif\" font-size=\"14.00\" fill=\"#000000\">samples = 597</text>\n",
       "<text text-anchor=\"start\" x=\"804.6667\" y=\"-7.8\" font-family=\"Times,serif\" font-size=\"14.00\" fill=\"#000000\">value = 9.313</text>\n",
       "</g>\n",
       "<!-- 12&#45;&gt;14 -->\n",
       "<g id=\"edge14\" class=\"edge\">\n",
       "<title>12&#45;&gt;14</title>\n",
       "<path fill=\"none\" stroke=\"#000000\" d=\"M673.9314,-76.005C709.2318,-65.6482 750.9876,-53.3976 784.1295,-43.6741\"/>\n",
       "<polygon fill=\"#000000\" stroke=\"#000000\" points=\"785.5115,-46.9163 794.1217,-40.7425 783.5408,-40.1994 785.5115,-46.9163\"/>\n",
       "</g>\n",
       "</g>\n",
       "</svg>\n"
      ],
      "text/plain": [
       "<graphviz.files.Source at 0x7f9098923d30>"
      ]
     },
     "metadata": {},
     "output_type": "display_data"
    }
   ],
   "source": [
    "draw_tree(m.estimators_[0], df_trn, precision=3)"
   ]
  },
  {
   "cell_type": "markdown",
   "metadata": {},
   "source": [
    "### extra for practice - end"
   ]
  },
  {
   "cell_type": "markdown",
   "metadata": {},
   "source": [
    "### explained the concept of bagging - looked at the predictions from each tree in RF and then took mean of it to get the final result"
   ]
  },
  {
   "cell_type": "code",
   "execution_count": 32,
   "metadata": {},
   "outputs": [],
   "source": [
    "preds = np.stack([t.predict(X_valid) for t in m.estimators_])"
   ]
  },
  {
   "cell_type": "code",
   "execution_count": 33,
   "metadata": {},
   "outputs": [
    {
     "data": {
      "text/plain": [
       "array([2.20882, 2.22033, 2.20882, 2.19989, 2.20882, 2.20882, 2.20882, 2.19922, 2.23993, 2.20882])"
      ]
     },
     "execution_count": 33,
     "metadata": {},
     "output_type": "execute_result"
    }
   ],
   "source": [
    "preds[:,0]"
   ]
  },
  {
   "cell_type": "code",
   "execution_count": 34,
   "metadata": {},
   "outputs": [
    {
     "data": {
      "text/plain": [
       "2.2112292525274913"
      ]
     },
     "execution_count": 34,
     "metadata": {},
     "output_type": "execute_result"
    }
   ],
   "source": [
    "np.mean(preds[:,0])"
   ]
  },
  {
   "cell_type": "code",
   "execution_count": 35,
   "metadata": {
    "scrolled": true
   },
   "outputs": [
    {
     "data": {
      "text/plain": [
       "2.2088215008013257"
      ]
     },
     "execution_count": 35,
     "metadata": {},
     "output_type": "execute_result"
    }
   ],
   "source": [
    "y_valid[0]"
   ]
  },
  {
   "cell_type": "markdown",
   "metadata": {},
   "source": [
    "## understanding how r^2 value flattens out after certain number of estimators"
   ]
  },
  {
   "cell_type": "code",
   "execution_count": 36,
   "metadata": {},
   "outputs": [
    {
     "data": {
      "text/plain": [
       "[<matplotlib.lines.Line2D at 0x7f1589b7cdd8>]"
      ]
     },
     "execution_count": 36,
     "metadata": {},
     "output_type": "execute_result"
    },
    {
     "data": {
      "image/png": "[encoded data removed]",
      "text/plain": [
       "<Figure size 432x288 with 1 Axes>"
      ]
     },
     "metadata": {},
     "output_type": "display_data"
    }
   ],
   "source": [
    "plt.plot([metrics.r2_score(y_valid, np.mean(preds[:i+1], axis=0)) for i in range(10)])"
   ]
  },
  {
   "cell_type": "markdown",
   "metadata": {},
   "source": [
    "### tried multiple models with hyperparameter tuning"
   ]
  },
  {
   "cell_type": "code",
   "execution_count": 37,
   "metadata": {},
   "outputs": [
    {
     "name": "stdout",
     "output_type": "stream",
     "text": [
      "[0.008276509330810802, 0.025304188751720098, 0.9853574620742211, 0.8839231482635853]\n"
     ]
    }
   ],
   "source": [
    "m = RandomForestRegressor(n_estimators=20, n_jobs=-1)\n",
    "m.fit(X_train, y_train)\n",
    "print_score(m)"
   ]
  },
  {
   "cell_type": "code",
   "execution_count": 38,
   "metadata": {},
   "outputs": [
    {
     "name": "stdout",
     "output_type": "stream",
     "text": [
      "CPU times: user 5min 55s, sys: 408 ms, total: 5min 55s\n",
      "Wall time: 1min 30s\n",
      "[0.007858780875706198, 0.024313930287452785, 0.98679822584865, 0.8928305213580664]\n"
     ]
    }
   ],
   "source": [
    "m = RandomForestRegressor(n_estimators=40, n_jobs=-1)\n",
    "%time m.fit(X_train, y_train)\n",
    "print_score(m)"
   ]
  },
  {
   "cell_type": "markdown",
   "metadata": {},
   "source": [
    "### will look at the oob score as well"
   ]
  },
  {
   "cell_type": "code",
   "execution_count": 39,
   "metadata": {},
   "outputs": [
    {
     "name": "stdout",
     "output_type": "stream",
     "text": [
      "CPU times: user 5min 57s, sys: 756 ms, total: 5min 58s\n",
      "Wall time: 1min 34s\n",
      "[0.007867552914345053, 0.024253305218712443, 0.9867687375331263, 0.8933642941238551, 0.9056704446161528]\n"
     ]
    }
   ],
   "source": [
    "m = RandomForestRegressor(n_estimators=40, n_jobs=-1, oob_score=True)\n",
    "%time m.fit(X_train, y_train)\n",
    "print_score(m)"
   ]
  },
  {
   "cell_type": "markdown",
   "metadata": {},
   "source": [
    "### From above results, I can say that the model is overfitting the training data as it's error is far less than the validation error\n",
    "### In training RF model, using total data points 389,125 did not improve the validation r^2 or error, so instead of using all the data points with bootstrap, not will feed 20,000 random data points to each estimator of RF model"
   ]
  },
  {
   "cell_type": "code",
   "execution_count": 45,
   "metadata": {},
   "outputs": [],
   "source": [
    "set_rf_samples(20000)"
   ]
  },
  {
   "cell_type": "code",
   "execution_count": 41,
   "metadata": {},
   "outputs": [
    {
     "name": "stdout",
     "output_type": "stream",
     "text": [
      "[0.023931260378317956, 0.028021470239623418, 0.8775798002965788, 0.8576548677842485, 0.8647406249952991]\n"
     ]
    }
   ],
   "source": [
    "m = RandomForestRegressor(n_jobs=-1, oob_score=True)\n",
    "m.fit(X_train, y_train)\n",
    "print_score(m)"
   ]
  },
  {
   "cell_type": "code",
   "execution_count": 42,
   "metadata": {},
   "outputs": [
    {
     "name": "stdout",
     "output_type": "stream",
     "text": [
      "CPU times: user 32.9 s, sys: 996 ms, total: 33.9 s\n",
      "Wall time: 14 s\n",
      "[0.02264144493045085, 0.026226037355260395, 0.8904202720421855, 0.8753115763260153, 0.8787423594289462]\n"
     ]
    }
   ],
   "source": [
    "m = RandomForestRegressor(n_estimators=40, n_jobs=-1, oob_score=True)\n",
    "%time m.fit(X_train, y_train)\n",
    "print_score(m)"
   ]
  },
  {
   "cell_type": "code",
   "execution_count": 46,
   "metadata": {},
   "outputs": [
    {
     "name": "stdout",
     "output_type": "stream",
     "text": [
      "CPU times: user 27.6 s, sys: 984 ms, total: 28.6 s\n",
      "Wall time: 12.4 s\n",
      "[0.02310871782757223, 0.02636960354166829, 0.8858505985048931, 0.8739427047697537, 0.8766328045599129]\n"
     ]
    }
   ],
   "source": [
    "m = RandomForestRegressor(n_estimators=40, min_samples_leaf=3, n_jobs=-1, oob_score=True)\n",
    "%time m.fit(X_train, y_train)\n",
    "print_score(m)"
   ]
  },
  {
   "cell_type": "code",
   "execution_count": 47,
   "metadata": {},
   "outputs": [
    {
     "name": "stdout",
     "output_type": "stream",
     "text": [
      "CPU times: user 17.6 s, sys: 1.01 s, total: 18.6 s\n",
      "Wall time: 9.91 s\n",
      "[0.023314065614425703, 0.026477401232967344, 0.8838128849110125, 0.8729099656671647, 0.8750652097539134]\n"
     ]
    }
   ],
   "source": [
    "m = RandomForestRegressor(n_estimators=40, min_samples_leaf=3, max_features = 0.5, n_jobs=-1, oob_score=True)\n",
    "%time m.fit(X_train, y_train)\n",
    "print_score(m)"
   ]
  },
  {
   "cell_type": "code",
   "execution_count": 48,
   "metadata": {},
   "outputs": [],
   "source": [
    "reset_rf_samples()"
   ]
  },
  {
   "cell_type": "code",
   "execution_count": 49,
   "metadata": {},
   "outputs": [],
   "source": [
    "set_rf_samples(50000)"
   ]
  },
  {
   "cell_type": "code",
   "execution_count": 50,
   "metadata": {
    "scrolled": true
   },
   "outputs": [
    {
     "name": "stdout",
     "output_type": "stream",
     "text": [
      "CPU times: user 34.5 s, sys: 932 ms, total: 35.5 s\n",
      "Wall time: 14.2 s\n",
      "[0.020625031002700852, 0.02510298913808813, 0.9090691690858929, 0.8857617188570563, 0.891556526153725]\n"
     ]
    }
   ],
   "source": [
    "m = RandomForestRegressor(n_estimators=40, min_samples_leaf=3, max_features = 0.5, n_jobs=-1, oob_score=True)\n",
    "%time m.fit(X_train, y_train)\n",
    "print_score(m)"
   ]
  },
  {
   "cell_type": "markdown",
   "metadata": {},
   "source": [
    "### Along with the predictions, we can also look at its standard deviations for better picture"
   ]
  },
  {
   "cell_type": "code",
   "execution_count": 52,
   "metadata": {},
   "outputs": [
    {
     "name": "stdout",
     "output_type": "stream",
     "text": [
      "CPU times: user 88 ms, sys: 140 ms, total: 228 ms\n",
      "Wall time: 1.04 s\n"
     ]
    },
    {
     "data": {
      "text/plain": [
       "(2.221552415807797, 0.026244188315667428)"
      ]
     },
     "execution_count": 52,
     "metadata": {},
     "output_type": "execute_result"
    }
   ],
   "source": [
    "def get_preds(t): return t.predict(X_valid)\n",
    "%time preds = np.stack(parallel_trees(m, get_preds))\n",
    "np.mean(preds[:,0]), np.std(preds[:,0])"
   ]
  },
  {
   "cell_type": "code",
   "execution_count": 53,
   "metadata": {},
   "outputs": [],
   "source": [
    "x = raw_valid.copy()\n",
    "x['pred_std'] = np.std(preds, axis=0)\n",
    "x['pred_mean'] = np.mean(preds, axis=0)"
   ]
  },
  {
   "cell_type": "code",
   "execution_count": 54,
   "metadata": {},
   "outputs": [
    {
     "data": {
      "text/plain": [
       "<matplotlib.axes._subplots.AxesSubplot at 0x7f158acfa240>"
      ]
     },
     "execution_count": 54,
     "metadata": {},
     "output_type": "execute_result"
    },
    {
     "data": {
      "image/png": "[encoded data removed]",
      "text/plain": [
       "<Figure size 432x288 with 1 Axes>"
      ]
     },
     "metadata": {},
     "output_type": "display_data"
    }
   ],
   "source": [
    "x.ProductSize.value_counts().plot.barh()"
   ]
  },
  {
   "cell_type": "code",
   "execution_count": 55,
   "metadata": {},
   "outputs": [
    {
     "data": {
      "text/html": [
       "<div>\n",
       "<style scoped>\n",
       "    .dataframe tbody tr th:only-of-type {\n",
       "        vertical-align: middle;\n",
       "    }\n",
       "\n",
       "    .dataframe tbody tr th {\n",
       "        vertical-align: top;\n",
       "    }\n",
       "\n",
       "    .dataframe thead th {\n",
       "        text-align: right;\n",
       "    }\n",
       "</style>\n",
       "<table border=\"1\" class=\"dataframe\">\n",
       "  <thead>\n",
       "    <tr style=\"text-align: right;\">\n",
       "      <th></th>\n",
       "      <th>ProductSize</th>\n",
       "      <th>SalePrice</th>\n",
       "      <th>pred_mean</th>\n",
       "      <th>pred_std</th>\n",
       "    </tr>\n",
       "  </thead>\n",
       "  <tbody>\n",
       "    <tr>\n",
       "      <th>0</th>\n",
       "      <td>Compact</td>\n",
       "      <td>2.274830</td>\n",
       "      <td>2.287733</td>\n",
       "      <td>0.033196</td>\n",
       "    </tr>\n",
       "    <tr>\n",
       "      <th>1</th>\n",
       "      <td>Large</td>\n",
       "      <td>2.346298</td>\n",
       "      <td>2.338830</td>\n",
       "      <td>0.035160</td>\n",
       "    </tr>\n",
       "    <tr>\n",
       "      <th>2</th>\n",
       "      <td>Large / Medium</td>\n",
       "      <td>2.368020</td>\n",
       "      <td>2.363620</td>\n",
       "      <td>0.028642</td>\n",
       "    </tr>\n",
       "    <tr>\n",
       "      <th>3</th>\n",
       "      <td>Medium</td>\n",
       "      <td>2.366909</td>\n",
       "      <td>2.361357</td>\n",
       "      <td>0.027065</td>\n",
       "    </tr>\n",
       "    <tr>\n",
       "      <th>4</th>\n",
       "      <td>Mini</td>\n",
       "      <td>2.254139</td>\n",
       "      <td>2.256163</td>\n",
       "      <td>0.025337</td>\n",
       "    </tr>\n",
       "    <tr>\n",
       "      <th>5</th>\n",
       "      <td>Small</td>\n",
       "      <td>2.333077</td>\n",
       "      <td>2.332982</td>\n",
       "      <td>0.030833</td>\n",
       "    </tr>\n",
       "  </tbody>\n",
       "</table>\n",
       "</div>"
      ],
      "text/plain": [
       "      ProductSize  SalePrice  pred_mean  pred_std\n",
       "0         Compact   2.274830   2.287733  0.033196\n",
       "1           Large   2.346298   2.338830  0.035160\n",
       "2  Large / Medium   2.368020   2.363620  0.028642\n",
       "3          Medium   2.366909   2.361357  0.027065\n",
       "4            Mini   2.254139   2.256163  0.025337\n",
       "5           Small   2.333077   2.332982  0.030833"
      ]
     },
     "execution_count": 55,
     "metadata": {},
     "output_type": "execute_result"
    }
   ],
   "source": [
    "flds = ['ProductSize', 'SalePrice', 'pred_mean', 'pred_std']\n",
    "summ = x[flds].groupby(flds[0], as_index = False).mean()\n",
    "summ"
   ]
  },
  {
   "cell_type": "code",
   "execution_count": 56,
   "metadata": {},
   "outputs": [
    {
     "data": {
      "text/plain": [
       "1    0.015033\n",
       "0    0.014511\n",
       "5    0.013216\n",
       "2    0.012118\n",
       "3    0.011462\n",
       "4    0.011230\n",
       "dtype: float64"
      ]
     },
     "execution_count": 56,
     "metadata": {},
     "output_type": "execute_result"
    }
   ],
   "source": [
    "(summ.pred_std/summ.pred_mean).sort_values(ascending = False)"
   ]
  },
  {
   "cell_type": "code",
   "execution_count": 57,
   "metadata": {},
   "outputs": [
    {
     "data": {
      "text/plain": [
       "<matplotlib.axes._subplots.AxesSubplot at 0x7f15943b4da0>"
      ]
     },
     "execution_count": 57,
     "metadata": {},
     "output_type": "execute_result"
    },
    {
     "data": {
      "image/png": "[encoded data removed]",
      "text/plain": [
       "<Figure size 432x288 with 1 Axes>"
      ]
     },
     "metadata": {},
     "output_type": "display_data"
    }
   ],
   "source": [
    "x.Enclosure.value_counts().plot.barh()"
   ]
  },
  {
   "cell_type": "code",
   "execution_count": 58,
   "metadata": {},
   "outputs": [
    {
     "data": {
      "text/html": [
       "<div>\n",
       "<style scoped>\n",
       "    .dataframe tbody tr th:only-of-type {\n",
       "        vertical-align: middle;\n",
       "    }\n",
       "\n",
       "    .dataframe tbody tr th {\n",
       "        vertical-align: top;\n",
       "    }\n",
       "\n",
       "    .dataframe thead th {\n",
       "        text-align: right;\n",
       "    }\n",
       "</style>\n",
       "<table border=\"1\" class=\"dataframe\">\n",
       "  <thead>\n",
       "    <tr style=\"text-align: right;\">\n",
       "      <th></th>\n",
       "      <th>Enclosure</th>\n",
       "      <th>SalePrice</th>\n",
       "      <th>pred_mean</th>\n",
       "      <th>pred_std</th>\n",
       "    </tr>\n",
       "  </thead>\n",
       "  <tbody>\n",
       "    <tr>\n",
       "      <th>0</th>\n",
       "      <td>EROPS</td>\n",
       "      <td>2.285296</td>\n",
       "      <td>2.283871</td>\n",
       "      <td>0.027577</td>\n",
       "    </tr>\n",
       "    <tr>\n",
       "      <th>1</th>\n",
       "      <td>EROPS AC</td>\n",
       "      <td>NaN</td>\n",
       "      <td>NaN</td>\n",
       "      <td>NaN</td>\n",
       "    </tr>\n",
       "    <tr>\n",
       "      <th>2</th>\n",
       "      <td>EROPS w AC</td>\n",
       "      <td>2.361377</td>\n",
       "      <td>2.357025</td>\n",
       "      <td>0.025385</td>\n",
       "    </tr>\n",
       "    <tr>\n",
       "      <th>3</th>\n",
       "      <td>NO ROPS</td>\n",
       "      <td>NaN</td>\n",
       "      <td>NaN</td>\n",
       "      <td>NaN</td>\n",
       "    </tr>\n",
       "    <tr>\n",
       "      <th>4</th>\n",
       "      <td>None or Unspecified</td>\n",
       "      <td>NaN</td>\n",
       "      <td>NaN</td>\n",
       "      <td>NaN</td>\n",
       "    </tr>\n",
       "    <tr>\n",
       "      <th>5</th>\n",
       "      <td>OROPS</td>\n",
       "      <td>2.268286</td>\n",
       "      <td>2.268876</td>\n",
       "      <td>0.022688</td>\n",
       "    </tr>\n",
       "  </tbody>\n",
       "</table>\n",
       "</div>"
      ],
      "text/plain": [
       "             Enclosure  SalePrice  pred_mean  pred_std\n",
       "0                EROPS   2.285296   2.283871  0.027577\n",
       "1             EROPS AC        NaN        NaN       NaN\n",
       "2           EROPS w AC   2.361377   2.357025  0.025385\n",
       "3              NO ROPS        NaN        NaN       NaN\n",
       "4  None or Unspecified        NaN        NaN       NaN\n",
       "5                OROPS   2.268286   2.268876  0.022688"
      ]
     },
     "execution_count": 58,
     "metadata": {},
     "output_type": "execute_result"
    }
   ],
   "source": [
    "flds = ['Enclosure', 'SalePrice', 'pred_mean', 'pred_std']\n",
    "summ = x[flds].groupby(flds[0], as_index = False).mean()\n",
    "summ"
   ]
  },
  {
   "cell_type": "code",
   "execution_count": 59,
   "metadata": {},
   "outputs": [
    {
     "data": {
      "text/plain": [
       "0    0.012074\n",
       "2    0.010770\n",
       "5    0.010000\n",
       "1         NaN\n",
       "3         NaN\n",
       "4         NaN\n",
       "dtype: float64"
      ]
     },
     "execution_count": 59,
     "metadata": {},
     "output_type": "execute_result"
    }
   ],
   "source": [
    "(summ.pred_std/summ.pred_mean).sort_values(ascending = False)"
   ]
  },
  {
   "cell_type": "code",
   "execution_count": 61,
   "metadata": {},
   "outputs": [
    {
     "data": {
      "text/plain": [
       "<matplotlib.axes._subplots.AxesSubplot at 0x7f158bfe7860>"
      ]
     },
     "execution_count": 61,
     "metadata": {},
     "output_type": "execute_result"
    },
    {
     "data": {
      "image/png": "[encoded data removed]",
      "text/plain": [
       "<Figure size 504x432 with 1 Axes>"
      ]
     },
     "metadata": {},
     "output_type": "display_data"
    }
   ],
   "source": [
    "summ = summ[summ.SalePrice.notnull()]\n",
    "summ.plot('Enclosure', 'SalePrice', 'barh', xerr='pred_std', alpha = 0.6, xlim=(0,3), figsize=(7,6))"
   ]
  },
  {
   "cell_type": "markdown",
   "metadata": {},
   "source": [
    "## Feature importance"
   ]
  },
  {
   "cell_type": "code",
   "execution_count": 63,
   "metadata": {},
   "outputs": [
    {
     "data": {
      "text/html": [
       "<div>\n",
       "<style scoped>\n",
       "    .dataframe tbody tr th:only-of-type {\n",
       "        vertical-align: middle;\n",
       "    }\n",
       "\n",
       "    .dataframe tbody tr th {\n",
       "        vertical-align: top;\n",
       "    }\n",
       "\n",
       "    .dataframe thead th {\n",
       "        text-align: right;\n",
       "    }\n",
       "</style>\n",
       "<table border=\"1\" class=\"dataframe\">\n",
       "  <thead>\n",
       "    <tr style=\"text-align: right;\">\n",
       "      <th></th>\n",
       "      <th>cols</th>\n",
       "      <th>imp</th>\n",
       "    </tr>\n",
       "  </thead>\n",
       "  <tbody>\n",
       "    <tr>\n",
       "      <th>5</th>\n",
       "      <td>YearMade</td>\n",
       "      <td>0.172985</td>\n",
       "    </tr>\n",
       "    <tr>\n",
       "      <th>13</th>\n",
       "      <td>ProductSize</td>\n",
       "      <td>0.101579</td>\n",
       "    </tr>\n",
       "    <tr>\n",
       "      <th>37</th>\n",
       "      <td>Coupler_System</td>\n",
       "      <td>0.101010</td>\n",
       "    </tr>\n",
       "    <tr>\n",
       "      <th>14</th>\n",
       "      <td>fiProductClassDesc</td>\n",
       "      <td>0.079994</td>\n",
       "    </tr>\n",
       "    <tr>\n",
       "      <th>39</th>\n",
       "      <td>Hydraulics_Flow</td>\n",
       "      <td>0.059651</td>\n",
       "    </tr>\n",
       "    <tr>\n",
       "      <th>2</th>\n",
       "      <td>ModelID</td>\n",
       "      <td>0.057073</td>\n",
       "    </tr>\n",
       "    <tr>\n",
       "      <th>63</th>\n",
       "      <td>saleElapsed</td>\n",
       "      <td>0.049420</td>\n",
       "    </tr>\n",
       "    <tr>\n",
       "      <th>38</th>\n",
       "      <td>Grouser_Tracks</td>\n",
       "      <td>0.041913</td>\n",
       "    </tr>\n",
       "    <tr>\n",
       "      <th>10</th>\n",
       "      <td>fiSecondaryDesc</td>\n",
       "      <td>0.039423</td>\n",
       "    </tr>\n",
       "    <tr>\n",
       "      <th>19</th>\n",
       "      <td>Enclosure</td>\n",
       "      <td>0.036949</td>\n",
       "    </tr>\n",
       "  </tbody>\n",
       "</table>\n",
       "</div>"
      ],
      "text/plain": [
       "                  cols       imp\n",
       "5             YearMade  0.172985\n",
       "13         ProductSize  0.101579\n",
       "37      Coupler_System  0.101010\n",
       "14  fiProductClassDesc  0.079994\n",
       "39     Hydraulics_Flow  0.059651\n",
       "2              ModelID  0.057073\n",
       "63         saleElapsed  0.049420\n",
       "38      Grouser_Tracks  0.041913\n",
       "10     fiSecondaryDesc  0.039423\n",
       "19           Enclosure  0.036949"
      ]
     },
     "execution_count": 63,
     "metadata": {},
     "output_type": "execute_result"
    }
   ],
   "source": [
    "fi = rf_feat_importance(m, df); fi[:10]"
   ]
  },
  {
   "cell_type": "code",
   "execution_count": 64,
   "metadata": {},
   "outputs": [
    {
     "data": {
      "text/plain": [
       "<matplotlib.axes._subplots.AxesSubplot at 0x7f158b60de80>"
      ]
     },
     "execution_count": 64,
     "metadata": {},
     "output_type": "execute_result"
    },
    {
     "data": {
      "image/png": "[encoded data removed]",
      "text/plain": [
       "<Figure size 720x504 with 1 Axes>"
      ]
     },
     "metadata": {},
     "output_type": "display_data"
    }
   ],
   "source": [
    "fi.plot('cols', 'imp', legend=False, figsize=(10,7))"
   ]
  },
  {
   "cell_type": "code",
   "execution_count": 65,
   "metadata": {},
   "outputs": [],
   "source": [
    "def plot_fi(fi): return fi.plot('cols', 'imp', 'barh', figsize=(16,10), legend=False) "
   ]
  },
  {
   "cell_type": "code",
   "execution_count": 66,
   "metadata": {},
   "outputs": [
    {
     "data": {
      "text/plain": [
       "<matplotlib.axes._subplots.AxesSubplot at 0x7f158b6fb4e0>"
      ]
     },
     "execution_count": 66,
     "metadata": {},
     "output_type": "execute_result"
    },
    {
     "data": {
      "image/png": "[encoded data removed]",
      "text/plain": [
       "<Figure size 1152x720 with 1 Axes>"
      ]
     },
     "metadata": {},
     "output_type": "display_data"
    }
   ],
   "source": [
    "plot_fi(fi[:30])"
   ]
  },
  {
   "cell_type": "code",
   "execution_count": 67,
   "metadata": {},
   "outputs": [
    {
     "data": {
      "text/plain": [
       "24"
      ]
     },
     "execution_count": 67,
     "metadata": {},
     "output_type": "execute_result"
    }
   ],
   "source": [
    "to_keep = fi[fi.imp > 0.005].cols; len(to_keep)"
   ]
  },
  {
   "cell_type": "code",
   "execution_count": 69,
   "metadata": {},
   "outputs": [],
   "source": [
    "df_keep = df[to_keep].copy()\n",
    "X_train, X_valid = split_vals(df_keep, n_trn)"
   ]
  },
  {
   "cell_type": "code",
   "execution_count": 70,
   "metadata": {},
   "outputs": [
    {
     "name": "stdout",
     "output_type": "stream",
     "text": [
      "CPU times: user 20.8 s, sys: 64 ms, total: 20.9 s\n",
      "Wall time: 7.29 s\n",
      "[0.020691608937910645, 0.024731396366958723, 0.9084811691791261, 0.8891187637410867, 0.8916608414877798]\n"
     ]
    }
   ],
   "source": [
    "m = RandomForestRegressor(n_estimators=40, min_samples_leaf=3, max_features = 0.5, n_jobs=-1, oob_score=True)\n",
    "%time m.fit(X_train, y_train)\n",
    "print_score(m)"
   ]
  },
  {
   "cell_type": "code",
   "execution_count": 71,
   "metadata": {},
   "outputs": [
    {
     "data": {
      "text/plain": [
       "<matplotlib.axes._subplots.AxesSubplot at 0x7f158b4aca90>"
      ]
     },
     "execution_count": 71,
     "metadata": {},
     "output_type": "execute_result"
    },
    {
     "data": {
      "image/png": "[encoded data removed]",
      "text/plain": [
       "<Figure size 1152x720 with 1 Axes>"
      ]
     },
     "metadata": {},
     "output_type": "display_data"
    }
   ],
   "source": [
    "fi = rf_feat_importance(m, df_keep)\n",
    "plot_fi(fi)"
   ]
  }
 ],
 "metadata": {
  "kernelspec": {
   "display_name": "Python 3",
   "language": "python",
   "name": "python3"
  },
  "language_info": {
   "codemirror_mode": {
    "name": "ipython",
    "version": 3
   },
   "file_extension": ".py",
   "mimetype": "text/x-python",
   "name": "python",
   "nbconvert_exporter": "python",
   "pygments_lexer": "ipython3",
   "version": "3.6.5"
  }
 },
 "nbformat": 4,
 "nbformat_minor": 2
}
